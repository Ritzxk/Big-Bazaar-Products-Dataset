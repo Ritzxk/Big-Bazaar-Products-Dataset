{
 "cells": [
  {
   "cell_type": "markdown",
   "id": "9e19fc00",
   "metadata": {},
   "source": [
    "# big bazaar Products Analysis"
   ]
  },
  {
   "cell_type": "markdown",
   "id": "81bd583c",
   "metadata": {},
   "source": [
    "### importing warnings"
   ]
  },
  {
   "cell_type": "code",
   "execution_count": 1,
   "id": "901ce360",
   "metadata": {},
   "outputs": [],
   "source": [
    "import warnings\n",
    "warnings.filterwarnings('ignore')"
   ]
  },
  {
   "cell_type": "markdown",
   "id": "caf4a297",
   "metadata": {},
   "source": [
    "### importing libraries"
   ]
  },
  {
   "cell_type": "code",
   "execution_count": 2,
   "id": "5a4fac83",
   "metadata": {},
   "outputs": [],
   "source": [
    "import pandas as pd\n",
    "import numpy as np\n",
    "import seaborn as sns\n",
    "import matplotlib.pyplot as plt\n",
    "\n",
    "sns.set(rc={'figure.figsize':[6, 6]}, font_scale = 1.2)"
   ]
  },
  {
   "cell_type": "markdown",
   "id": "1827f55f",
   "metadata": {},
   "source": [
    "## Importing dataset"
   ]
  },
  {
   "cell_type": "code",
   "execution_count": 3,
   "id": "fd407f68",
   "metadata": {},
   "outputs": [
    {
     "data": {
      "text/html": [
       "<div>\n",
       "<style scoped>\n",
       "    .dataframe tbody tr th:only-of-type {\n",
       "        vertical-align: middle;\n",
       "    }\n",
       "\n",
       "    .dataframe tbody tr th {\n",
       "        vertical-align: top;\n",
       "    }\n",
       "\n",
       "    .dataframe thead th {\n",
       "        text-align: right;\n",
       "    }\n",
       "</style>\n",
       "<table border=\"1\" class=\"dataframe\">\n",
       "  <thead>\n",
       "    <tr style=\"text-align: right;\">\n",
       "      <th></th>\n",
       "      <th>index</th>\n",
       "      <th>product</th>\n",
       "      <th>category</th>\n",
       "      <th>sub_category</th>\n",
       "      <th>brand</th>\n",
       "      <th>sale_price</th>\n",
       "      <th>market_price</th>\n",
       "      <th>type</th>\n",
       "      <th>rating</th>\n",
       "      <th>description</th>\n",
       "    </tr>\n",
       "  </thead>\n",
       "  <tbody>\n",
       "    <tr>\n",
       "      <th>0</th>\n",
       "      <td>1</td>\n",
       "      <td>Garlic Oil - Vegetarian Capsule 500 mg</td>\n",
       "      <td>Beauty &amp; Hygiene</td>\n",
       "      <td>Hair Care</td>\n",
       "      <td>Sri Sri Ayurveda</td>\n",
       "      <td>220.0</td>\n",
       "      <td>220.0</td>\n",
       "      <td>Hair Oil &amp; Serum</td>\n",
       "      <td>4.1</td>\n",
       "      <td>This Product contains Garlic Oil that is known...</td>\n",
       "    </tr>\n",
       "    <tr>\n",
       "      <th>1</th>\n",
       "      <td>2</td>\n",
       "      <td>Water Bottle - Orange</td>\n",
       "      <td>Kitchen, Garden &amp; Pets</td>\n",
       "      <td>Storage &amp; Accessories</td>\n",
       "      <td>Mastercook</td>\n",
       "      <td>180.0</td>\n",
       "      <td>180.0</td>\n",
       "      <td>Water &amp; Fridge Bottles</td>\n",
       "      <td>2.3</td>\n",
       "      <td>Each product is microwave safe (without lid), ...</td>\n",
       "    </tr>\n",
       "    <tr>\n",
       "      <th>2</th>\n",
       "      <td>3</td>\n",
       "      <td>Brass Angle Deep - Plain, No.2</td>\n",
       "      <td>Cleaning &amp; Household</td>\n",
       "      <td>Pooja Needs</td>\n",
       "      <td>Trm</td>\n",
       "      <td>119.0</td>\n",
       "      <td>250.0</td>\n",
       "      <td>Lamp &amp; Lamp Oil</td>\n",
       "      <td>3.4</td>\n",
       "      <td>A perfect gift for all occasions, be it your m...</td>\n",
       "    </tr>\n",
       "  </tbody>\n",
       "</table>\n",
       "</div>"
      ],
      "text/plain": [
       "   index                                 product                category  \\\n",
       "0      1  Garlic Oil - Vegetarian Capsule 500 mg        Beauty & Hygiene   \n",
       "1      2                   Water Bottle - Orange  Kitchen, Garden & Pets   \n",
       "2      3          Brass Angle Deep - Plain, No.2    Cleaning & Household   \n",
       "\n",
       "            sub_category              brand  sale_price  market_price  \\\n",
       "0              Hair Care  Sri Sri Ayurveda        220.0         220.0   \n",
       "1  Storage & Accessories         Mastercook       180.0         180.0   \n",
       "2            Pooja Needs                Trm       119.0         250.0   \n",
       "\n",
       "                     type  rating  \\\n",
       "0        Hair Oil & Serum     4.1   \n",
       "1  Water & Fridge Bottles     2.3   \n",
       "2         Lamp & Lamp Oil     3.4   \n",
       "\n",
       "                                         description  \n",
       "0  This Product contains Garlic Oil that is known...  \n",
       "1  Each product is microwave safe (without lid), ...  \n",
       "2  A perfect gift for all occasions, be it your m...  "
      ]
     },
     "execution_count": 3,
     "metadata": {},
     "output_type": "execute_result"
    }
   ],
   "source": [
    "df=pd.read_csv(\"BigBazaarProducts.csv\")\n",
    "df.head(3)"
   ]
  },
  {
   "cell_type": "markdown",
   "id": "50ae012b",
   "metadata": {},
   "source": [
    "## Exploring Dataset"
   ]
  },
  {
   "cell_type": "markdown",
   "id": "df17b42c",
   "metadata": {},
   "source": [
    "### shape of data"
   ]
  },
  {
   "cell_type": "code",
   "execution_count": 4,
   "id": "5056e40c",
   "metadata": {},
   "outputs": [
    {
     "data": {
      "text/plain": [
       "(27555, 10)"
      ]
     },
     "execution_count": 4,
     "metadata": {},
     "output_type": "execute_result"
    }
   ],
   "source": [
    "df.shape"
   ]
  },
  {
   "cell_type": "markdown",
   "id": "d6a98647",
   "metadata": {},
   "source": [
    "#### Our data is having 27555 observations with 10 columns"
   ]
  },
  {
   "cell_type": "code",
   "execution_count": 5,
   "id": "df9e6b92",
   "metadata": {},
   "outputs": [
    {
     "name": "stdout",
     "output_type": "stream",
     "text": [
      "<class 'pandas.core.frame.DataFrame'>\n",
      "RangeIndex: 27555 entries, 0 to 27554\n",
      "Data columns (total 10 columns):\n",
      " #   Column        Non-Null Count  Dtype  \n",
      "---  ------        --------------  -----  \n",
      " 0   index         27555 non-null  int64  \n",
      " 1   product       27554 non-null  object \n",
      " 2   category      27555 non-null  object \n",
      " 3   sub_category  27555 non-null  object \n",
      " 4   brand         27554 non-null  object \n",
      " 5   sale_price    27555 non-null  float64\n",
      " 6   market_price  27555 non-null  float64\n",
      " 7   type          27555 non-null  object \n",
      " 8   rating        18929 non-null  float64\n",
      " 9   description   27440 non-null  object \n",
      "dtypes: float64(3), int64(1), object(6)\n",
      "memory usage: 2.1+ MB\n"
     ]
    }
   ],
   "source": [
    "df.info()"
   ]
  },
  {
   "cell_type": "markdown",
   "id": "ca371054",
   "metadata": {},
   "source": [
    "### This dataset contains 10 attributes with simple meaning and which are described as follows:\n",
    "\n",
    "- index - Simply the Index!\n",
    "- product - Title of the product (as they're listed)\n",
    "- category - Category into which product has been classified\n",
    "- sub_category - Subcategory into which product has been kept\n",
    "- brand - Brand of the product\n",
    "- sale_price - Price at which product is being sold on the site\n",
    "- market_price - Market price of the product\n",
    "- type - Type into which product falls\n",
    "- rating - Rating the product has got from its consumers\n",
    "- description - Description of the dataset (in detail)\n",
    "description - Description of the dataset (in detail)\n",
    "\n",
    "**Variable \"discount\" can be created as (marketprice - saleprice)/ market_price * 100 which will help in getting what consumers are getting better here!**"
   ]
  },
  {
   "cell_type": "code",
   "execution_count": 6,
   "id": "6e37bbb6",
   "metadata": {},
   "outputs": [
    {
     "data": {
      "text/html": [
       "<div>\n",
       "<style scoped>\n",
       "    .dataframe tbody tr th:only-of-type {\n",
       "        vertical-align: middle;\n",
       "    }\n",
       "\n",
       "    .dataframe tbody tr th {\n",
       "        vertical-align: top;\n",
       "    }\n",
       "\n",
       "    .dataframe thead th {\n",
       "        text-align: right;\n",
       "    }\n",
       "</style>\n",
       "<table border=\"1\" class=\"dataframe\">\n",
       "  <thead>\n",
       "    <tr style=\"text-align: right;\">\n",
       "      <th></th>\n",
       "      <th>index</th>\n",
       "      <th>product</th>\n",
       "      <th>category</th>\n",
       "      <th>sub_category</th>\n",
       "      <th>brand</th>\n",
       "      <th>sale_price</th>\n",
       "      <th>market_price</th>\n",
       "      <th>type</th>\n",
       "      <th>rating</th>\n",
       "      <th>description</th>\n",
       "    </tr>\n",
       "  </thead>\n",
       "  <tbody>\n",
       "    <tr>\n",
       "      <th>0</th>\n",
       "      <td>1</td>\n",
       "      <td>Garlic Oil - Vegetarian Capsule 500 mg</td>\n",
       "      <td>Beauty &amp; Hygiene</td>\n",
       "      <td>Hair Care</td>\n",
       "      <td>Sri Sri Ayurveda</td>\n",
       "      <td>220.0</td>\n",
       "      <td>220.0</td>\n",
       "      <td>Hair Oil &amp; Serum</td>\n",
       "      <td>4.1</td>\n",
       "      <td>This Product contains Garlic Oil that is known...</td>\n",
       "    </tr>\n",
       "    <tr>\n",
       "      <th>1</th>\n",
       "      <td>2</td>\n",
       "      <td>Water Bottle - Orange</td>\n",
       "      <td>Kitchen, Garden &amp; Pets</td>\n",
       "      <td>Storage &amp; Accessories</td>\n",
       "      <td>Mastercook</td>\n",
       "      <td>180.0</td>\n",
       "      <td>180.0</td>\n",
       "      <td>Water &amp; Fridge Bottles</td>\n",
       "      <td>2.3</td>\n",
       "      <td>Each product is microwave safe (without lid), ...</td>\n",
       "    </tr>\n",
       "    <tr>\n",
       "      <th>2</th>\n",
       "      <td>3</td>\n",
       "      <td>Brass Angle Deep - Plain, No.2</td>\n",
       "      <td>Cleaning &amp; Household</td>\n",
       "      <td>Pooja Needs</td>\n",
       "      <td>Trm</td>\n",
       "      <td>119.0</td>\n",
       "      <td>250.0</td>\n",
       "      <td>Lamp &amp; Lamp Oil</td>\n",
       "      <td>3.4</td>\n",
       "      <td>A perfect gift for all occasions, be it your m...</td>\n",
       "    </tr>\n",
       "    <tr>\n",
       "      <th>3</th>\n",
       "      <td>4</td>\n",
       "      <td>Cereal Flip Lid Container/Storage Jar - Assort...</td>\n",
       "      <td>Cleaning &amp; Household</td>\n",
       "      <td>Bins &amp; Bathroom Ware</td>\n",
       "      <td>Nakoda</td>\n",
       "      <td>149.0</td>\n",
       "      <td>176.0</td>\n",
       "      <td>Laundry, Storage Baskets</td>\n",
       "      <td>3.7</td>\n",
       "      <td>Multipurpose container with an attractive desi...</td>\n",
       "    </tr>\n",
       "    <tr>\n",
       "      <th>4</th>\n",
       "      <td>5</td>\n",
       "      <td>Creme Soft Soap - For Hands &amp; Body</td>\n",
       "      <td>Beauty &amp; Hygiene</td>\n",
       "      <td>Bath &amp; Hand Wash</td>\n",
       "      <td>Nivea</td>\n",
       "      <td>162.0</td>\n",
       "      <td>162.0</td>\n",
       "      <td>Bathing Bars &amp; Soaps</td>\n",
       "      <td>4.4</td>\n",
       "      <td>Nivea Creme Soft Soap gives your skin the best...</td>\n",
       "    </tr>\n",
       "  </tbody>\n",
       "</table>\n",
       "</div>"
      ],
      "text/plain": [
       "   index                                            product  \\\n",
       "0      1             Garlic Oil - Vegetarian Capsule 500 mg   \n",
       "1      2                              Water Bottle - Orange   \n",
       "2      3                     Brass Angle Deep - Plain, No.2   \n",
       "3      4  Cereal Flip Lid Container/Storage Jar - Assort...   \n",
       "4      5                 Creme Soft Soap - For Hands & Body   \n",
       "\n",
       "                 category           sub_category              brand  \\\n",
       "0        Beauty & Hygiene              Hair Care  Sri Sri Ayurveda    \n",
       "1  Kitchen, Garden & Pets  Storage & Accessories         Mastercook   \n",
       "2    Cleaning & Household            Pooja Needs                Trm   \n",
       "3    Cleaning & Household   Bins & Bathroom Ware             Nakoda   \n",
       "4        Beauty & Hygiene       Bath & Hand Wash              Nivea   \n",
       "\n",
       "   sale_price  market_price                      type  rating  \\\n",
       "0       220.0         220.0          Hair Oil & Serum     4.1   \n",
       "1       180.0         180.0    Water & Fridge Bottles     2.3   \n",
       "2       119.0         250.0           Lamp & Lamp Oil     3.4   \n",
       "3       149.0         176.0  Laundry, Storage Baskets     3.7   \n",
       "4       162.0         162.0      Bathing Bars & Soaps     4.4   \n",
       "\n",
       "                                         description  \n",
       "0  This Product contains Garlic Oil that is known...  \n",
       "1  Each product is microwave safe (without lid), ...  \n",
       "2  A perfect gift for all occasions, be it your m...  \n",
       "3  Multipurpose container with an attractive desi...  \n",
       "4  Nivea Creme Soft Soap gives your skin the best...  "
      ]
     },
     "execution_count": 6,
     "metadata": {},
     "output_type": "execute_result"
    }
   ],
   "source": [
    "df.head()"
   ]
  },
  {
   "cell_type": "markdown",
   "id": "bd3de85a",
   "metadata": {},
   "source": [
    "**Here we can observe that the variables such as 'index' and 'description' is of no use in our analysis so we drop these columns**"
   ]
  },
  {
   "cell_type": "markdown",
   "id": "aa8d95ad",
   "metadata": {},
   "source": [
    "Dropping \"index\" and \"description\" columns"
   ]
  },
  {
   "cell_type": "code",
   "execution_count": 7,
   "id": "129ab3b2",
   "metadata": {},
   "outputs": [],
   "source": [
    "df.drop([\"description\",\"index\"],axis=1,inplace=True)"
   ]
  },
  {
   "cell_type": "code",
   "execution_count": 8,
   "id": "90525145",
   "metadata": {
    "scrolled": true
   },
   "outputs": [
    {
     "data": {
      "text/html": [
       "<div>\n",
       "<style scoped>\n",
       "    .dataframe tbody tr th:only-of-type {\n",
       "        vertical-align: middle;\n",
       "    }\n",
       "\n",
       "    .dataframe tbody tr th {\n",
       "        vertical-align: top;\n",
       "    }\n",
       "\n",
       "    .dataframe thead th {\n",
       "        text-align: right;\n",
       "    }\n",
       "</style>\n",
       "<table border=\"1\" class=\"dataframe\">\n",
       "  <thead>\n",
       "    <tr style=\"text-align: right;\">\n",
       "      <th></th>\n",
       "      <th>product</th>\n",
       "      <th>category</th>\n",
       "      <th>sub_category</th>\n",
       "      <th>brand</th>\n",
       "      <th>sale_price</th>\n",
       "      <th>market_price</th>\n",
       "      <th>type</th>\n",
       "      <th>rating</th>\n",
       "    </tr>\n",
       "  </thead>\n",
       "  <tbody>\n",
       "    <tr>\n",
       "      <th>0</th>\n",
       "      <td>Garlic Oil - Vegetarian Capsule 500 mg</td>\n",
       "      <td>Beauty &amp; Hygiene</td>\n",
       "      <td>Hair Care</td>\n",
       "      <td>Sri Sri Ayurveda</td>\n",
       "      <td>220.0</td>\n",
       "      <td>220.0</td>\n",
       "      <td>Hair Oil &amp; Serum</td>\n",
       "      <td>4.1</td>\n",
       "    </tr>\n",
       "    <tr>\n",
       "      <th>1</th>\n",
       "      <td>Water Bottle - Orange</td>\n",
       "      <td>Kitchen, Garden &amp; Pets</td>\n",
       "      <td>Storage &amp; Accessories</td>\n",
       "      <td>Mastercook</td>\n",
       "      <td>180.0</td>\n",
       "      <td>180.0</td>\n",
       "      <td>Water &amp; Fridge Bottles</td>\n",
       "      <td>2.3</td>\n",
       "    </tr>\n",
       "    <tr>\n",
       "      <th>2</th>\n",
       "      <td>Brass Angle Deep - Plain, No.2</td>\n",
       "      <td>Cleaning &amp; Household</td>\n",
       "      <td>Pooja Needs</td>\n",
       "      <td>Trm</td>\n",
       "      <td>119.0</td>\n",
       "      <td>250.0</td>\n",
       "      <td>Lamp &amp; Lamp Oil</td>\n",
       "      <td>3.4</td>\n",
       "    </tr>\n",
       "    <tr>\n",
       "      <th>3</th>\n",
       "      <td>Cereal Flip Lid Container/Storage Jar - Assort...</td>\n",
       "      <td>Cleaning &amp; Household</td>\n",
       "      <td>Bins &amp; Bathroom Ware</td>\n",
       "      <td>Nakoda</td>\n",
       "      <td>149.0</td>\n",
       "      <td>176.0</td>\n",
       "      <td>Laundry, Storage Baskets</td>\n",
       "      <td>3.7</td>\n",
       "    </tr>\n",
       "    <tr>\n",
       "      <th>4</th>\n",
       "      <td>Creme Soft Soap - For Hands &amp; Body</td>\n",
       "      <td>Beauty &amp; Hygiene</td>\n",
       "      <td>Bath &amp; Hand Wash</td>\n",
       "      <td>Nivea</td>\n",
       "      <td>162.0</td>\n",
       "      <td>162.0</td>\n",
       "      <td>Bathing Bars &amp; Soaps</td>\n",
       "      <td>4.4</td>\n",
       "    </tr>\n",
       "  </tbody>\n",
       "</table>\n",
       "</div>"
      ],
      "text/plain": [
       "                                             product                category  \\\n",
       "0             Garlic Oil - Vegetarian Capsule 500 mg        Beauty & Hygiene   \n",
       "1                              Water Bottle - Orange  Kitchen, Garden & Pets   \n",
       "2                     Brass Angle Deep - Plain, No.2    Cleaning & Household   \n",
       "3  Cereal Flip Lid Container/Storage Jar - Assort...    Cleaning & Household   \n",
       "4                 Creme Soft Soap - For Hands & Body        Beauty & Hygiene   \n",
       "\n",
       "            sub_category              brand  sale_price  market_price  \\\n",
       "0              Hair Care  Sri Sri Ayurveda        220.0         220.0   \n",
       "1  Storage & Accessories         Mastercook       180.0         180.0   \n",
       "2            Pooja Needs                Trm       119.0         250.0   \n",
       "3   Bins & Bathroom Ware             Nakoda       149.0         176.0   \n",
       "4       Bath & Hand Wash              Nivea       162.0         162.0   \n",
       "\n",
       "                       type  rating  \n",
       "0          Hair Oil & Serum     4.1  \n",
       "1    Water & Fridge Bottles     2.3  \n",
       "2           Lamp & Lamp Oil     3.4  \n",
       "3  Laundry, Storage Baskets     3.7  \n",
       "4      Bathing Bars & Soaps     4.4  "
      ]
     },
     "execution_count": 8,
     "metadata": {},
     "output_type": "execute_result"
    }
   ],
   "source": [
    "df.head()"
   ]
  },
  {
   "cell_type": "code",
   "execution_count": 9,
   "id": "b68edc41",
   "metadata": {},
   "outputs": [
    {
     "name": "stdout",
     "output_type": "stream",
     "text": [
      "<class 'pandas.core.frame.DataFrame'>\n",
      "RangeIndex: 27555 entries, 0 to 27554\n",
      "Data columns (total 8 columns):\n",
      " #   Column        Non-Null Count  Dtype  \n",
      "---  ------        --------------  -----  \n",
      " 0   product       27554 non-null  object \n",
      " 1   category      27555 non-null  object \n",
      " 2   sub_category  27555 non-null  object \n",
      " 3   brand         27554 non-null  object \n",
      " 4   sale_price    27555 non-null  float64\n",
      " 5   market_price  27555 non-null  float64\n",
      " 6   type          27555 non-null  object \n",
      " 7   rating        18929 non-null  float64\n",
      "dtypes: float64(3), object(5)\n",
      "memory usage: 1.7+ MB\n"
     ]
    }
   ],
   "source": [
    "df.info()"
   ]
  },
  {
   "cell_type": "code",
   "execution_count": 10,
   "id": "a7f79d1b",
   "metadata": {},
   "outputs": [],
   "source": [
    "#df.describe()"
   ]
  },
  {
   "cell_type": "code",
   "execution_count": 11,
   "id": "df165321",
   "metadata": {},
   "outputs": [],
   "source": [
    "#df.nunique()"
   ]
  },
  {
   "cell_type": "markdown",
   "id": "6c06dd09",
   "metadata": {},
   "source": [
    "### Checking duplicate values"
   ]
  },
  {
   "cell_type": "code",
   "execution_count": 12,
   "id": "01125200",
   "metadata": {},
   "outputs": [
    {
     "data": {
      "text/plain": [
       "361"
      ]
     },
     "execution_count": 12,
     "metadata": {},
     "output_type": "execute_result"
    }
   ],
   "source": [
    "df.duplicated().sum()"
   ]
  },
  {
   "cell_type": "markdown",
   "id": "21808b13",
   "metadata": {},
   "source": [
    "There is 361 attributes which have duplicate values"
   ]
  },
  {
   "cell_type": "code",
   "execution_count": 13,
   "id": "b46da534",
   "metadata": {},
   "outputs": [
    {
     "data": {
      "text/html": [
       "<div>\n",
       "<style scoped>\n",
       "    .dataframe tbody tr th:only-of-type {\n",
       "        vertical-align: middle;\n",
       "    }\n",
       "\n",
       "    .dataframe tbody tr th {\n",
       "        vertical-align: top;\n",
       "    }\n",
       "\n",
       "    .dataframe thead th {\n",
       "        text-align: right;\n",
       "    }\n",
       "</style>\n",
       "<table border=\"1\" class=\"dataframe\">\n",
       "  <thead>\n",
       "    <tr style=\"text-align: right;\">\n",
       "      <th></th>\n",
       "      <th>product</th>\n",
       "      <th>category</th>\n",
       "      <th>sub_category</th>\n",
       "      <th>brand</th>\n",
       "      <th>sale_price</th>\n",
       "      <th>market_price</th>\n",
       "      <th>type</th>\n",
       "      <th>rating</th>\n",
       "    </tr>\n",
       "  </thead>\n",
       "  <tbody>\n",
       "    <tr>\n",
       "      <th>243</th>\n",
       "      <td>Glass Amaze Air Tight Jar - Pink</td>\n",
       "      <td>Kitchen, Garden &amp; Pets</td>\n",
       "      <td>Crockery &amp; Cutlery</td>\n",
       "      <td>Iveo</td>\n",
       "      <td>289.0</td>\n",
       "      <td>358.0</td>\n",
       "      <td>Glassware</td>\n",
       "      <td>NaN</td>\n",
       "    </tr>\n",
       "    <tr>\n",
       "      <th>296</th>\n",
       "      <td>Organic Idly Podi - Ginger</td>\n",
       "      <td>Snacks &amp; Branded Foods</td>\n",
       "      <td>Ready To Cook &amp; Eat</td>\n",
       "      <td>Aaha Oho</td>\n",
       "      <td>75.0</td>\n",
       "      <td>75.0</td>\n",
       "      <td>Breakfast &amp; Snack Mixes</td>\n",
       "      <td>3.9</td>\n",
       "    </tr>\n",
       "    <tr>\n",
       "      <th>1887</th>\n",
       "      <td>100% Melamine 3D Soup Spoon - Blue</td>\n",
       "      <td>Kitchen, Garden &amp; Pets</td>\n",
       "      <td>Crockery &amp; Cutlery</td>\n",
       "      <td>Iveo</td>\n",
       "      <td>264.0</td>\n",
       "      <td>264.0</td>\n",
       "      <td>Plates &amp; Bowls</td>\n",
       "      <td>NaN</td>\n",
       "    </tr>\n",
       "    <tr>\n",
       "      <th>2139</th>\n",
       "      <td>Classic Sandalwood &amp; Tulsi Hand Wash</td>\n",
       "      <td>Beauty &amp; Hygiene</td>\n",
       "      <td>Bath &amp; Hand Wash</td>\n",
       "      <td>Santoor</td>\n",
       "      <td>209.0</td>\n",
       "      <td>209.0</td>\n",
       "      <td>Hand Wash &amp; Sanitizers</td>\n",
       "      <td>3.8</td>\n",
       "    </tr>\n",
       "    <tr>\n",
       "      <th>2952</th>\n",
       "      <td>Chai / Coffee/ Tea-Milk Mug - Sea With Ship Print</td>\n",
       "      <td>Kitchen, Garden &amp; Pets</td>\n",
       "      <td>Crockery &amp; Cutlery</td>\n",
       "      <td>Rslee</td>\n",
       "      <td>299.0</td>\n",
       "      <td>299.0</td>\n",
       "      <td>Cups, Mugs &amp; Tumblers</td>\n",
       "      <td>NaN</td>\n",
       "    </tr>\n",
       "    <tr>\n",
       "      <th>...</th>\n",
       "      <td>...</td>\n",
       "      <td>...</td>\n",
       "      <td>...</td>\n",
       "      <td>...</td>\n",
       "      <td>...</td>\n",
       "      <td>...</td>\n",
       "      <td>...</td>\n",
       "      <td>...</td>\n",
       "    </tr>\n",
       "    <tr>\n",
       "      <th>27178</th>\n",
       "      <td>Rose Gold Beauty Oil</td>\n",
       "      <td>Beauty &amp; Hygiene</td>\n",
       "      <td>Skin Care</td>\n",
       "      <td>The Beauty Co.</td>\n",
       "      <td>975.0</td>\n",
       "      <td>1250.0</td>\n",
       "      <td>Face Care</td>\n",
       "      <td>NaN</td>\n",
       "    </tr>\n",
       "    <tr>\n",
       "      <th>27371</th>\n",
       "      <td>Adult Diapers Economy, Medium</td>\n",
       "      <td>Beauty &amp; Hygiene</td>\n",
       "      <td>Health &amp; Medicine</td>\n",
       "      <td>Friends</td>\n",
       "      <td>425.0</td>\n",
       "      <td>425.0</td>\n",
       "      <td>Adult Diapers</td>\n",
       "      <td>NaN</td>\n",
       "    </tr>\n",
       "    <tr>\n",
       "      <th>27375</th>\n",
       "      <td>Taft Ultimate Wax</td>\n",
       "      <td>Beauty &amp; Hygiene</td>\n",
       "      <td>Hair Care</td>\n",
       "      <td>Schwarzkopf</td>\n",
       "      <td>425.0</td>\n",
       "      <td>425.0</td>\n",
       "      <td>Hair Care &amp; Styling</td>\n",
       "      <td>NaN</td>\n",
       "    </tr>\n",
       "    <tr>\n",
       "      <th>27412</th>\n",
       "      <td>Whisky Tumblers/Glass</td>\n",
       "      <td>Kitchen, Garden &amp; Pets</td>\n",
       "      <td>Crockery &amp; Cutlery</td>\n",
       "      <td>Yera</td>\n",
       "      <td>319.0</td>\n",
       "      <td>385.0</td>\n",
       "      <td>Glassware</td>\n",
       "      <td>NaN</td>\n",
       "    </tr>\n",
       "    <tr>\n",
       "      <th>27549</th>\n",
       "      <td>Papad - Garlic Disco</td>\n",
       "      <td>Snacks &amp; Branded Foods</td>\n",
       "      <td>Ready To Cook &amp; Eat</td>\n",
       "      <td>Atish</td>\n",
       "      <td>61.0</td>\n",
       "      <td>61.0</td>\n",
       "      <td>Papads, Ready To Fry</td>\n",
       "      <td>4.0</td>\n",
       "    </tr>\n",
       "  </tbody>\n",
       "</table>\n",
       "<p>361 rows × 8 columns</p>\n",
       "</div>"
      ],
      "text/plain": [
       "                                                 product  \\\n",
       "243                     Glass Amaze Air Tight Jar - Pink   \n",
       "296                           Organic Idly Podi - Ginger   \n",
       "1887                  100% Melamine 3D Soup Spoon - Blue   \n",
       "2139                Classic Sandalwood & Tulsi Hand Wash   \n",
       "2952   Chai / Coffee/ Tea-Milk Mug - Sea With Ship Print   \n",
       "...                                                  ...   \n",
       "27178                               Rose Gold Beauty Oil   \n",
       "27371                      Adult Diapers Economy, Medium   \n",
       "27375                                  Taft Ultimate Wax   \n",
       "27412                              Whisky Tumblers/Glass   \n",
       "27549                               Papad - Garlic Disco   \n",
       "\n",
       "                     category         sub_category           brand  \\\n",
       "243    Kitchen, Garden & Pets   Crockery & Cutlery           Iveo    \n",
       "296    Snacks & Branded Foods  Ready To Cook & Eat        Aaha Oho   \n",
       "1887   Kitchen, Garden & Pets   Crockery & Cutlery           Iveo    \n",
       "2139         Beauty & Hygiene     Bath & Hand Wash         Santoor   \n",
       "2952   Kitchen, Garden & Pets   Crockery & Cutlery           Rslee   \n",
       "...                       ...                  ...             ...   \n",
       "27178        Beauty & Hygiene            Skin Care  The Beauty Co.   \n",
       "27371        Beauty & Hygiene    Health & Medicine         Friends   \n",
       "27375        Beauty & Hygiene            Hair Care     Schwarzkopf   \n",
       "27412  Kitchen, Garden & Pets   Crockery & Cutlery            Yera   \n",
       "27549  Snacks & Branded Foods  Ready To Cook & Eat          Atish    \n",
       "\n",
       "       sale_price  market_price                     type  rating  \n",
       "243         289.0         358.0                Glassware     NaN  \n",
       "296          75.0          75.0  Breakfast & Snack Mixes     3.9  \n",
       "1887        264.0         264.0           Plates & Bowls     NaN  \n",
       "2139        209.0         209.0   Hand Wash & Sanitizers     3.8  \n",
       "2952        299.0         299.0    Cups, Mugs & Tumblers     NaN  \n",
       "...           ...           ...                      ...     ...  \n",
       "27178       975.0        1250.0                Face Care     NaN  \n",
       "27371       425.0         425.0            Adult Diapers     NaN  \n",
       "27375       425.0         425.0      Hair Care & Styling     NaN  \n",
       "27412       319.0         385.0                Glassware     NaN  \n",
       "27549        61.0          61.0     Papads, Ready To Fry     4.0  \n",
       "\n",
       "[361 rows x 8 columns]"
      ]
     },
     "execution_count": 13,
     "metadata": {},
     "output_type": "execute_result"
    }
   ],
   "source": [
    "df[df.duplicated()]"
   ]
  },
  {
   "cell_type": "markdown",
   "id": "61c136e1",
   "metadata": {},
   "source": [
    "#### Deleting duplicate values"
   ]
  },
  {
   "cell_type": "code",
   "execution_count": 14,
   "id": "78781fd3",
   "metadata": {},
   "outputs": [],
   "source": [
    "df.drop_duplicates(inplace=True)"
   ]
  },
  {
   "cell_type": "code",
   "execution_count": 15,
   "id": "fa3694b9",
   "metadata": {
    "scrolled": true
   },
   "outputs": [
    {
     "data": {
      "text/plain": [
       "(27194, 8)"
      ]
     },
     "execution_count": 15,
     "metadata": {},
     "output_type": "execute_result"
    }
   ],
   "source": [
    "df.shape"
   ]
  },
  {
   "cell_type": "code",
   "execution_count": 16,
   "id": "84f7887d",
   "metadata": {},
   "outputs": [
    {
     "data": {
      "text/html": [
       "<div>\n",
       "<style scoped>\n",
       "    .dataframe tbody tr th:only-of-type {\n",
       "        vertical-align: middle;\n",
       "    }\n",
       "\n",
       "    .dataframe tbody tr th {\n",
       "        vertical-align: top;\n",
       "    }\n",
       "\n",
       "    .dataframe thead th {\n",
       "        text-align: right;\n",
       "    }\n",
       "</style>\n",
       "<table border=\"1\" class=\"dataframe\">\n",
       "  <thead>\n",
       "    <tr style=\"text-align: right;\">\n",
       "      <th></th>\n",
       "      <th>sale_price</th>\n",
       "      <th>market_price</th>\n",
       "      <th>rating</th>\n",
       "    </tr>\n",
       "  </thead>\n",
       "  <tbody>\n",
       "    <tr>\n",
       "      <th>count</th>\n",
       "      <td>27194.000000</td>\n",
       "      <td>27194.000000</td>\n",
       "      <td>18733.000000</td>\n",
       "    </tr>\n",
       "    <tr>\n",
       "      <th>mean</th>\n",
       "      <td>320.780278</td>\n",
       "      <td>380.174391</td>\n",
       "      <td>3.944334</td>\n",
       "    </tr>\n",
       "    <tr>\n",
       "      <th>std</th>\n",
       "      <td>486.004757</td>\n",
       "      <td>581.467633</td>\n",
       "      <td>0.735517</td>\n",
       "    </tr>\n",
       "    <tr>\n",
       "      <th>min</th>\n",
       "      <td>2.450000</td>\n",
       "      <td>3.000000</td>\n",
       "      <td>1.000000</td>\n",
       "    </tr>\n",
       "    <tr>\n",
       "      <th>25%</th>\n",
       "      <td>95.000000</td>\n",
       "      <td>100.000000</td>\n",
       "      <td>3.700000</td>\n",
       "    </tr>\n",
       "    <tr>\n",
       "      <th>50%</th>\n",
       "      <td>190.000000</td>\n",
       "      <td>220.000000</td>\n",
       "      <td>4.100000</td>\n",
       "    </tr>\n",
       "    <tr>\n",
       "      <th>75%</th>\n",
       "      <td>351.000000</td>\n",
       "      <td>425.000000</td>\n",
       "      <td>4.300000</td>\n",
       "    </tr>\n",
       "    <tr>\n",
       "      <th>max</th>\n",
       "      <td>12500.000000</td>\n",
       "      <td>12500.000000</td>\n",
       "      <td>5.000000</td>\n",
       "    </tr>\n",
       "  </tbody>\n",
       "</table>\n",
       "</div>"
      ],
      "text/plain": [
       "         sale_price  market_price        rating\n",
       "count  27194.000000  27194.000000  18733.000000\n",
       "mean     320.780278    380.174391      3.944334\n",
       "std      486.004757    581.467633      0.735517\n",
       "min        2.450000      3.000000      1.000000\n",
       "25%       95.000000    100.000000      3.700000\n",
       "50%      190.000000    220.000000      4.100000\n",
       "75%      351.000000    425.000000      4.300000\n",
       "max    12500.000000  12500.000000      5.000000"
      ]
     },
     "execution_count": 16,
     "metadata": {},
     "output_type": "execute_result"
    }
   ],
   "source": [
    "df.describe()"
   ]
  },
  {
   "cell_type": "code",
   "execution_count": 17,
   "id": "0df44106",
   "metadata": {},
   "outputs": [
    {
     "data": {
      "text/plain": [
       "product         23540\n",
       "category           11\n",
       "sub_category       90\n",
       "brand            2313\n",
       "sale_price       3256\n",
       "market_price     1348\n",
       "type              426\n",
       "rating             40\n",
       "dtype: int64"
      ]
     },
     "execution_count": 17,
     "metadata": {},
     "output_type": "execute_result"
    }
   ],
   "source": [
    "df.nunique()"
   ]
  },
  {
   "cell_type": "markdown",
   "id": "89e20edc",
   "metadata": {},
   "source": [
    "### Checking null values"
   ]
  },
  {
   "cell_type": "code",
   "execution_count": 18,
   "id": "aeb0aab5",
   "metadata": {},
   "outputs": [
    {
     "data": {
      "text/plain": [
       "product            1\n",
       "category           0\n",
       "sub_category       0\n",
       "brand              1\n",
       "sale_price         0\n",
       "market_price       0\n",
       "type               0\n",
       "rating          8461\n",
       "dtype: int64"
      ]
     },
     "execution_count": 18,
     "metadata": {},
     "output_type": "execute_result"
    }
   ],
   "source": [
    "df.isnull().sum()"
   ]
  },
  {
   "cell_type": "markdown",
   "id": "88a12763",
   "metadata": {},
   "source": [
    "### Checking percentage of null values in variable \"product\" , \"brand\" and \"rating\""
   ]
  },
  {
   "cell_type": "markdown",
   "id": "62abd849",
   "metadata": {},
   "source": [
    "Percentage of missing values in \"brand\" column"
   ]
  },
  {
   "cell_type": "code",
   "execution_count": 19,
   "id": "1ebd2b43",
   "metadata": {},
   "outputs": [
    {
     "data": {
      "text/plain": [
       "0.00367728175332794"
      ]
     },
     "execution_count": 19,
     "metadata": {},
     "output_type": "execute_result"
    }
   ],
   "source": [
    "float(100.0*(df.brand.isnull().sum()/df.shape[0]))"
   ]
  },
  {
   "cell_type": "markdown",
   "id": "da9d0e58",
   "metadata": {},
   "source": [
    "Percentage of missing values in \"product\" column"
   ]
  },
  {
   "cell_type": "code",
   "execution_count": 20,
   "id": "4746ab6b",
   "metadata": {},
   "outputs": [
    {
     "data": {
      "text/plain": [
       "0.00367728175332794"
      ]
     },
     "execution_count": 20,
     "metadata": {},
     "output_type": "execute_result"
    }
   ],
   "source": [
    "float(100.0*(df['product'].isnull().sum()/df.shape[0]))"
   ]
  },
  {
   "cell_type": "markdown",
   "id": "27db1158",
   "metadata": {},
   "source": [
    "Percentage of missing values in \"product\" column"
   ]
  },
  {
   "cell_type": "code",
   "execution_count": 21,
   "id": "2fddd342",
   "metadata": {},
   "outputs": [
    {
     "data": {
      "text/plain": [
       "31.113480914907697"
      ]
     },
     "execution_count": 21,
     "metadata": {},
     "output_type": "execute_result"
    }
   ],
   "source": [
    "float(100.0*(df.rating.isnull().sum()/df.shape[0]))"
   ]
  },
  {
   "cell_type": "markdown",
   "id": "d5c11f41",
   "metadata": {},
   "source": [
    "## Observation:\n",
    "### Variable \"product\" and \"brand\" has 0.003% of missing values so its better to remove them but  variable \"rating\" has 31.11% of missing values so we replace missing values with either mean/mode/median or quantile"
   ]
  },
  {
   "cell_type": "markdown",
   "id": "2cf00c24",
   "metadata": {},
   "source": [
    "Droping missing values of variable \"brand\" and \"product\""
   ]
  },
  {
   "cell_type": "code",
   "execution_count": 22,
   "id": "8659393c",
   "metadata": {},
   "outputs": [],
   "source": [
    "df.dropna(subset=[\"product\",\"brand\"],inplace=True)"
   ]
  },
  {
   "cell_type": "code",
   "execution_count": 23,
   "id": "c6ae1cc2",
   "metadata": {},
   "outputs": [
    {
     "data": {
      "text/plain": [
       "product            0\n",
       "category           0\n",
       "sub_category       0\n",
       "brand              0\n",
       "sale_price         0\n",
       "market_price       0\n",
       "type               0\n",
       "rating          8460\n",
       "dtype: int64"
      ]
     },
     "execution_count": 23,
     "metadata": {},
     "output_type": "execute_result"
    }
   ],
   "source": [
    "df.isnull().sum()"
   ]
  },
  {
   "cell_type": "markdown",
   "id": "06ffda94",
   "metadata": {},
   "source": [
    "**Now checking satistical data of rating variable**"
   ]
  },
  {
   "cell_type": "code",
   "execution_count": 24,
   "id": "ec415068",
   "metadata": {},
   "outputs": [
    {
     "data": {
      "text/plain": [
       "count    18732.000000\n",
       "mean         3.944320\n",
       "std          0.735534\n",
       "min          1.000000\n",
       "25%          3.700000\n",
       "50%          4.100000\n",
       "75%          4.300000\n",
       "max          5.000000\n",
       "Name: rating, dtype: float64"
      ]
     },
     "execution_count": 24,
     "metadata": {},
     "output_type": "execute_result"
    }
   ],
   "source": [
    "df.rating.describe()"
   ]
  },
  {
   "cell_type": "markdown",
   "id": "8dd117f8",
   "metadata": {},
   "source": [
    "Now we fill the missing rating values with mean value"
   ]
  },
  {
   "cell_type": "code",
   "execution_count": 25,
   "id": "4fc9efea",
   "metadata": {},
   "outputs": [],
   "source": [
    "df.rating.fillna(df.rating.mean(),inplace=True)"
   ]
  },
  {
   "cell_type": "code",
   "execution_count": 26,
   "id": "58f23d90",
   "metadata": {},
   "outputs": [
    {
     "data": {
      "text/plain": [
       "count    27192.000000\n",
       "mean         3.944320\n",
       "std          0.610479\n",
       "min          1.000000\n",
       "25%          3.944320\n",
       "50%          3.944320\n",
       "75%          4.200000\n",
       "max          5.000000\n",
       "Name: rating, dtype: float64"
      ]
     },
     "execution_count": 26,
     "metadata": {},
     "output_type": "execute_result"
    }
   ],
   "source": [
    "df.rating.describe()"
   ]
  },
  {
   "cell_type": "code",
   "execution_count": 27,
   "id": "42e0f125",
   "metadata": {},
   "outputs": [
    {
     "data": {
      "text/plain": [
       "0"
      ]
     },
     "execution_count": 27,
     "metadata": {},
     "output_type": "execute_result"
    }
   ],
   "source": [
    "df.rating.isnull().sum()"
   ]
  },
  {
   "cell_type": "markdown",
   "id": "2f83de6d",
   "metadata": {},
   "source": [
    "#### Creating new variable \"discount\" which is discount percentage using 'market_price' and 'sale_price' variables \n",
    "- discount = (market_price - sale_price)market_price*100"
   ]
  },
  {
   "cell_type": "code",
   "execution_count": 28,
   "id": "d37150d6",
   "metadata": {},
   "outputs": [],
   "source": [
    "df['discount']=(df['market_price']-df['sale_price'])/df['market_price']*100"
   ]
  },
  {
   "cell_type": "code",
   "execution_count": 29,
   "id": "4c61661a",
   "metadata": {},
   "outputs": [
    {
     "data": {
      "text/html": [
       "<div>\n",
       "<style scoped>\n",
       "    .dataframe tbody tr th:only-of-type {\n",
       "        vertical-align: middle;\n",
       "    }\n",
       "\n",
       "    .dataframe tbody tr th {\n",
       "        vertical-align: top;\n",
       "    }\n",
       "\n",
       "    .dataframe thead th {\n",
       "        text-align: right;\n",
       "    }\n",
       "</style>\n",
       "<table border=\"1\" class=\"dataframe\">\n",
       "  <thead>\n",
       "    <tr style=\"text-align: right;\">\n",
       "      <th></th>\n",
       "      <th>product</th>\n",
       "      <th>category</th>\n",
       "      <th>sub_category</th>\n",
       "      <th>brand</th>\n",
       "      <th>sale_price</th>\n",
       "      <th>market_price</th>\n",
       "      <th>type</th>\n",
       "      <th>rating</th>\n",
       "      <th>discount</th>\n",
       "    </tr>\n",
       "  </thead>\n",
       "  <tbody>\n",
       "    <tr>\n",
       "      <th>0</th>\n",
       "      <td>Garlic Oil - Vegetarian Capsule 500 mg</td>\n",
       "      <td>Beauty &amp; Hygiene</td>\n",
       "      <td>Hair Care</td>\n",
       "      <td>Sri Sri Ayurveda</td>\n",
       "      <td>220.0</td>\n",
       "      <td>220.0</td>\n",
       "      <td>Hair Oil &amp; Serum</td>\n",
       "      <td>4.1</td>\n",
       "      <td>0.000000</td>\n",
       "    </tr>\n",
       "    <tr>\n",
       "      <th>1</th>\n",
       "      <td>Water Bottle - Orange</td>\n",
       "      <td>Kitchen, Garden &amp; Pets</td>\n",
       "      <td>Storage &amp; Accessories</td>\n",
       "      <td>Mastercook</td>\n",
       "      <td>180.0</td>\n",
       "      <td>180.0</td>\n",
       "      <td>Water &amp; Fridge Bottles</td>\n",
       "      <td>2.3</td>\n",
       "      <td>0.000000</td>\n",
       "    </tr>\n",
       "    <tr>\n",
       "      <th>2</th>\n",
       "      <td>Brass Angle Deep - Plain, No.2</td>\n",
       "      <td>Cleaning &amp; Household</td>\n",
       "      <td>Pooja Needs</td>\n",
       "      <td>Trm</td>\n",
       "      <td>119.0</td>\n",
       "      <td>250.0</td>\n",
       "      <td>Lamp &amp; Lamp Oil</td>\n",
       "      <td>3.4</td>\n",
       "      <td>52.400000</td>\n",
       "    </tr>\n",
       "    <tr>\n",
       "      <th>3</th>\n",
       "      <td>Cereal Flip Lid Container/Storage Jar - Assort...</td>\n",
       "      <td>Cleaning &amp; Household</td>\n",
       "      <td>Bins &amp; Bathroom Ware</td>\n",
       "      <td>Nakoda</td>\n",
       "      <td>149.0</td>\n",
       "      <td>176.0</td>\n",
       "      <td>Laundry, Storage Baskets</td>\n",
       "      <td>3.7</td>\n",
       "      <td>15.340909</td>\n",
       "    </tr>\n",
       "    <tr>\n",
       "      <th>4</th>\n",
       "      <td>Creme Soft Soap - For Hands &amp; Body</td>\n",
       "      <td>Beauty &amp; Hygiene</td>\n",
       "      <td>Bath &amp; Hand Wash</td>\n",
       "      <td>Nivea</td>\n",
       "      <td>162.0</td>\n",
       "      <td>162.0</td>\n",
       "      <td>Bathing Bars &amp; Soaps</td>\n",
       "      <td>4.4</td>\n",
       "      <td>0.000000</td>\n",
       "    </tr>\n",
       "  </tbody>\n",
       "</table>\n",
       "</div>"
      ],
      "text/plain": [
       "                                             product                category  \\\n",
       "0             Garlic Oil - Vegetarian Capsule 500 mg        Beauty & Hygiene   \n",
       "1                              Water Bottle - Orange  Kitchen, Garden & Pets   \n",
       "2                     Brass Angle Deep - Plain, No.2    Cleaning & Household   \n",
       "3  Cereal Flip Lid Container/Storage Jar - Assort...    Cleaning & Household   \n",
       "4                 Creme Soft Soap - For Hands & Body        Beauty & Hygiene   \n",
       "\n",
       "            sub_category              brand  sale_price  market_price  \\\n",
       "0              Hair Care  Sri Sri Ayurveda        220.0         220.0   \n",
       "1  Storage & Accessories         Mastercook       180.0         180.0   \n",
       "2            Pooja Needs                Trm       119.0         250.0   \n",
       "3   Bins & Bathroom Ware             Nakoda       149.0         176.0   \n",
       "4       Bath & Hand Wash              Nivea       162.0         162.0   \n",
       "\n",
       "                       type  rating   discount  \n",
       "0          Hair Oil & Serum     4.1   0.000000  \n",
       "1    Water & Fridge Bottles     2.3   0.000000  \n",
       "2           Lamp & Lamp Oil     3.4  52.400000  \n",
       "3  Laundry, Storage Baskets     3.7  15.340909  \n",
       "4      Bathing Bars & Soaps     4.4   0.000000  "
      ]
     },
     "execution_count": 29,
     "metadata": {},
     "output_type": "execute_result"
    }
   ],
   "source": [
    "df.head()"
   ]
  },
  {
   "cell_type": "code",
   "execution_count": null,
   "id": "1f96232e",
   "metadata": {},
   "outputs": [],
   "source": []
  },
  {
   "cell_type": "markdown",
   "id": "9739c5d8",
   "metadata": {},
   "source": [
    "### Finding Outliners"
   ]
  },
  {
   "cell_type": "code",
   "execution_count": 30,
   "id": "c9cc9bd8",
   "metadata": {
    "scrolled": true
   },
   "outputs": [
    {
     "data": {
      "text/html": [
       "<div>\n",
       "<style scoped>\n",
       "    .dataframe tbody tr th:only-of-type {\n",
       "        vertical-align: middle;\n",
       "    }\n",
       "\n",
       "    .dataframe tbody tr th {\n",
       "        vertical-align: top;\n",
       "    }\n",
       "\n",
       "    .dataframe thead th {\n",
       "        text-align: right;\n",
       "    }\n",
       "</style>\n",
       "<table border=\"1\" class=\"dataframe\">\n",
       "  <thead>\n",
       "    <tr style=\"text-align: right;\">\n",
       "      <th></th>\n",
       "      <th>sale_price</th>\n",
       "      <th>market_price</th>\n",
       "      <th>rating</th>\n",
       "      <th>discount</th>\n",
       "    </tr>\n",
       "  </thead>\n",
       "  <tbody>\n",
       "    <tr>\n",
       "      <th>count</th>\n",
       "      <td>27192.000000</td>\n",
       "      <td>27192.000000</td>\n",
       "      <td>27192.000000</td>\n",
       "      <td>27192.000000</td>\n",
       "    </tr>\n",
       "    <tr>\n",
       "      <th>mean</th>\n",
       "      <td>320.794678</td>\n",
       "      <td>380.191688</td>\n",
       "      <td>3.944320</td>\n",
       "      <td>11.844565</td>\n",
       "    </tr>\n",
       "    <tr>\n",
       "      <th>std</th>\n",
       "      <td>486.019304</td>\n",
       "      <td>581.484948</td>\n",
       "      <td>0.610479</td>\n",
       "      <td>14.648973</td>\n",
       "    </tr>\n",
       "    <tr>\n",
       "      <th>min</th>\n",
       "      <td>2.450000</td>\n",
       "      <td>3.000000</td>\n",
       "      <td>1.000000</td>\n",
       "      <td>0.000000</td>\n",
       "    </tr>\n",
       "    <tr>\n",
       "      <th>25%</th>\n",
       "      <td>95.000000</td>\n",
       "      <td>100.000000</td>\n",
       "      <td>3.944320</td>\n",
       "      <td>0.000000</td>\n",
       "    </tr>\n",
       "    <tr>\n",
       "      <th>50%</th>\n",
       "      <td>190.000000</td>\n",
       "      <td>220.000000</td>\n",
       "      <td>3.944320</td>\n",
       "      <td>5.000000</td>\n",
       "    </tr>\n",
       "    <tr>\n",
       "      <th>75%</th>\n",
       "      <td>351.000000</td>\n",
       "      <td>425.000000</td>\n",
       "      <td>4.200000</td>\n",
       "      <td>20.000000</td>\n",
       "    </tr>\n",
       "    <tr>\n",
       "      <th>max</th>\n",
       "      <td>12500.000000</td>\n",
       "      <td>12500.000000</td>\n",
       "      <td>5.000000</td>\n",
       "      <td>83.666667</td>\n",
       "    </tr>\n",
       "  </tbody>\n",
       "</table>\n",
       "</div>"
      ],
      "text/plain": [
       "         sale_price  market_price        rating      discount\n",
       "count  27192.000000  27192.000000  27192.000000  27192.000000\n",
       "mean     320.794678    380.191688      3.944320     11.844565\n",
       "std      486.019304    581.484948      0.610479     14.648973\n",
       "min        2.450000      3.000000      1.000000      0.000000\n",
       "25%       95.000000    100.000000      3.944320      0.000000\n",
       "50%      190.000000    220.000000      3.944320      5.000000\n",
       "75%      351.000000    425.000000      4.200000     20.000000\n",
       "max    12500.000000  12500.000000      5.000000     83.666667"
      ]
     },
     "execution_count": 30,
     "metadata": {},
     "output_type": "execute_result"
    }
   ],
   "source": [
    "df.describe()"
   ]
  },
  {
   "cell_type": "markdown",
   "id": "c376543c",
   "metadata": {},
   "source": [
    "**After observing statistical values of dataset we come to know that 'sale_price' and 'market_price' variable have huge difference between 75 pecentile and max value so we plot boxplot to find outliners**"
   ]
  },
  {
   "cell_type": "markdown",
   "id": "7de0c101",
   "metadata": {},
   "source": [
    "### Plotting boxplot to find outliners"
   ]
  },
  {
   "cell_type": "code",
   "execution_count": 31,
   "id": "7d80b74c",
   "metadata": {
    "scrolled": false
   },
   "outputs": [
    {
     "data": {
      "image/png": "[encoded data removed]",
      "text/plain": [
       "<Figure size 864x432 with 1 Axes>"
      ]
     },
     "metadata": {},
     "output_type": "display_data"
    }
   ],
   "source": [
    "sns.set_palette(\"bright\")\n",
    "plt.figure(figsize=[12,6])\n",
    "sns.boxplot(data=df[[\"sale_price\", \"market_price\"]], orient=\"h\")\n",
    "plt.show()"
   ]
  },
  {
   "cell_type": "markdown",
   "id": "3c7f0c5c",
   "metadata": {},
   "source": [
    "**deleting the values after 11000 as they are outliners**"
   ]
  },
  {
   "cell_type": "code",
   "execution_count": 32,
   "id": "bddaec93",
   "metadata": {
    "scrolled": true
   },
   "outputs": [
    {
     "data": {
      "text/html": [
       "<div>\n",
       "<style scoped>\n",
       "    .dataframe tbody tr th:only-of-type {\n",
       "        vertical-align: middle;\n",
       "    }\n",
       "\n",
       "    .dataframe tbody tr th {\n",
       "        vertical-align: top;\n",
       "    }\n",
       "\n",
       "    .dataframe thead th {\n",
       "        text-align: right;\n",
       "    }\n",
       "</style>\n",
       "<table border=\"1\" class=\"dataframe\">\n",
       "  <thead>\n",
       "    <tr style=\"text-align: right;\">\n",
       "      <th></th>\n",
       "      <th>product</th>\n",
       "      <th>category</th>\n",
       "      <th>sub_category</th>\n",
       "      <th>brand</th>\n",
       "      <th>sale_price</th>\n",
       "      <th>market_price</th>\n",
       "      <th>type</th>\n",
       "      <th>rating</th>\n",
       "      <th>discount</th>\n",
       "    </tr>\n",
       "  </thead>\n",
       "  <tbody>\n",
       "    <tr>\n",
       "      <th>0</th>\n",
       "      <td>Garlic Oil - Vegetarian Capsule 500 mg</td>\n",
       "      <td>Beauty &amp; Hygiene</td>\n",
       "      <td>Hair Care</td>\n",
       "      <td>Sri Sri Ayurveda</td>\n",
       "      <td>220.0</td>\n",
       "      <td>220.0</td>\n",
       "      <td>Hair Oil &amp; Serum</td>\n",
       "      <td>4.1</td>\n",
       "      <td>0.000000</td>\n",
       "    </tr>\n",
       "    <tr>\n",
       "      <th>1</th>\n",
       "      <td>Water Bottle - Orange</td>\n",
       "      <td>Kitchen, Garden &amp; Pets</td>\n",
       "      <td>Storage &amp; Accessories</td>\n",
       "      <td>Mastercook</td>\n",
       "      <td>180.0</td>\n",
       "      <td>180.0</td>\n",
       "      <td>Water &amp; Fridge Bottles</td>\n",
       "      <td>2.3</td>\n",
       "      <td>0.000000</td>\n",
       "    </tr>\n",
       "    <tr>\n",
       "      <th>2</th>\n",
       "      <td>Brass Angle Deep - Plain, No.2</td>\n",
       "      <td>Cleaning &amp; Household</td>\n",
       "      <td>Pooja Needs</td>\n",
       "      <td>Trm</td>\n",
       "      <td>119.0</td>\n",
       "      <td>250.0</td>\n",
       "      <td>Lamp &amp; Lamp Oil</td>\n",
       "      <td>3.4</td>\n",
       "      <td>52.400000</td>\n",
       "    </tr>\n",
       "    <tr>\n",
       "      <th>3</th>\n",
       "      <td>Cereal Flip Lid Container/Storage Jar - Assort...</td>\n",
       "      <td>Cleaning &amp; Household</td>\n",
       "      <td>Bins &amp; Bathroom Ware</td>\n",
       "      <td>Nakoda</td>\n",
       "      <td>149.0</td>\n",
       "      <td>176.0</td>\n",
       "      <td>Laundry, Storage Baskets</td>\n",
       "      <td>3.7</td>\n",
       "      <td>15.340909</td>\n",
       "    </tr>\n",
       "    <tr>\n",
       "      <th>4</th>\n",
       "      <td>Creme Soft Soap - For Hands &amp; Body</td>\n",
       "      <td>Beauty &amp; Hygiene</td>\n",
       "      <td>Bath &amp; Hand Wash</td>\n",
       "      <td>Nivea</td>\n",
       "      <td>162.0</td>\n",
       "      <td>162.0</td>\n",
       "      <td>Bathing Bars &amp; Soaps</td>\n",
       "      <td>4.4</td>\n",
       "      <td>0.000000</td>\n",
       "    </tr>\n",
       "  </tbody>\n",
       "</table>\n",
       "</div>"
      ],
      "text/plain": [
       "                                             product                category  \\\n",
       "0             Garlic Oil - Vegetarian Capsule 500 mg        Beauty & Hygiene   \n",
       "1                              Water Bottle - Orange  Kitchen, Garden & Pets   \n",
       "2                     Brass Angle Deep - Plain, No.2    Cleaning & Household   \n",
       "3  Cereal Flip Lid Container/Storage Jar - Assort...    Cleaning & Household   \n",
       "4                 Creme Soft Soap - For Hands & Body        Beauty & Hygiene   \n",
       "\n",
       "            sub_category              brand  sale_price  market_price  \\\n",
       "0              Hair Care  Sri Sri Ayurveda        220.0         220.0   \n",
       "1  Storage & Accessories         Mastercook       180.0         180.0   \n",
       "2            Pooja Needs                Trm       119.0         250.0   \n",
       "3   Bins & Bathroom Ware             Nakoda       149.0         176.0   \n",
       "4       Bath & Hand Wash              Nivea       162.0         162.0   \n",
       "\n",
       "                       type  rating   discount  \n",
       "0          Hair Oil & Serum     4.1   0.000000  \n",
       "1    Water & Fridge Bottles     2.3   0.000000  \n",
       "2           Lamp & Lamp Oil     3.4  52.400000  \n",
       "3  Laundry, Storage Baskets     3.7  15.340909  \n",
       "4      Bathing Bars & Soaps     4.4   0.000000  "
      ]
     },
     "execution_count": 32,
     "metadata": {},
     "output_type": "execute_result"
    }
   ],
   "source": [
    "df=df.loc[df[\"sale_price\"]<11000]\n",
    "df=df.loc[df[\"market_price\"]<11000]\n",
    "df.head()"
   ]
  },
  {
   "cell_type": "code",
   "execution_count": 33,
   "id": "06c7a73c",
   "metadata": {},
   "outputs": [
    {
     "data": {
      "text/html": [
       "<div>\n",
       "<style scoped>\n",
       "    .dataframe tbody tr th:only-of-type {\n",
       "        vertical-align: middle;\n",
       "    }\n",
       "\n",
       "    .dataframe tbody tr th {\n",
       "        vertical-align: top;\n",
       "    }\n",
       "\n",
       "    .dataframe thead th {\n",
       "        text-align: right;\n",
       "    }\n",
       "</style>\n",
       "<table border=\"1\" class=\"dataframe\">\n",
       "  <thead>\n",
       "    <tr style=\"text-align: right;\">\n",
       "      <th></th>\n",
       "      <th>product</th>\n",
       "      <th>category</th>\n",
       "      <th>sub_category</th>\n",
       "      <th>brand</th>\n",
       "      <th>sale_price</th>\n",
       "      <th>market_price</th>\n",
       "      <th>type</th>\n",
       "      <th>rating</th>\n",
       "      <th>discount</th>\n",
       "    </tr>\n",
       "  </thead>\n",
       "  <tbody>\n",
       "  </tbody>\n",
       "</table>\n",
       "</div>"
      ],
      "text/plain": [
       "Empty DataFrame\n",
       "Columns: [product, category, sub_category, brand, sale_price, market_price, type, rating, discount]\n",
       "Index: []"
      ]
     },
     "execution_count": 33,
     "metadata": {},
     "output_type": "execute_result"
    }
   ],
   "source": [
    "df.loc[df.sale_price>11000]"
   ]
  },
  {
   "cell_type": "code",
   "execution_count": 34,
   "id": "2f7dd555",
   "metadata": {},
   "outputs": [
    {
     "data": {
      "text/html": [
       "<div>\n",
       "<style scoped>\n",
       "    .dataframe tbody tr th:only-of-type {\n",
       "        vertical-align: middle;\n",
       "    }\n",
       "\n",
       "    .dataframe tbody tr th {\n",
       "        vertical-align: top;\n",
       "    }\n",
       "\n",
       "    .dataframe thead th {\n",
       "        text-align: right;\n",
       "    }\n",
       "</style>\n",
       "<table border=\"1\" class=\"dataframe\">\n",
       "  <thead>\n",
       "    <tr style=\"text-align: right;\">\n",
       "      <th></th>\n",
       "      <th>product</th>\n",
       "      <th>category</th>\n",
       "      <th>sub_category</th>\n",
       "      <th>brand</th>\n",
       "      <th>sale_price</th>\n",
       "      <th>market_price</th>\n",
       "      <th>type</th>\n",
       "      <th>rating</th>\n",
       "      <th>discount</th>\n",
       "    </tr>\n",
       "  </thead>\n",
       "  <tbody>\n",
       "  </tbody>\n",
       "</table>\n",
       "</div>"
      ],
      "text/plain": [
       "Empty DataFrame\n",
       "Columns: [product, category, sub_category, brand, sale_price, market_price, type, rating, discount]\n",
       "Index: []"
      ]
     },
     "execution_count": 34,
     "metadata": {},
     "output_type": "execute_result"
    }
   ],
   "source": [
    "df.loc[df.market_price>11000]"
   ]
  },
  {
   "cell_type": "code",
   "execution_count": 35,
   "id": "73b27314",
   "metadata": {},
   "outputs": [
    {
     "data": {
      "image/png": "[encoded data removed]",
      "text/plain": [
       "<Figure size 720x288 with 1 Axes>"
      ]
     },
     "metadata": {},
     "output_type": "display_data"
    }
   ],
   "source": [
    "sns.set_palette(\"bright\")\n",
    "plt.figure(figsize=[10,4])\n",
    "sns.boxplot(data=df[[\"sale_price\", \"market_price\"]], orient=\"h\")\n",
    "plt.show()"
   ]
  },
  {
   "cell_type": "code",
   "execution_count": 36,
   "id": "a4518529",
   "metadata": {},
   "outputs": [
    {
     "data": {
      "text/plain": [
       "Index(['product', 'category', 'sub_category', 'brand', 'sale_price',\n",
       "       'market_price', 'type', 'rating', 'discount'],\n",
       "      dtype='object')"
      ]
     },
     "execution_count": 36,
     "metadata": {},
     "output_type": "execute_result"
    }
   ],
   "source": [
    "df.columns"
   ]
  },
  {
   "cell_type": "code",
   "execution_count": 37,
   "id": "034f12b0",
   "metadata": {},
   "outputs": [
    {
     "data": {
      "text/plain": [
       "product          object\n",
       "category         object\n",
       "sub_category     object\n",
       "brand            object\n",
       "sale_price      float64\n",
       "market_price    float64\n",
       "type             object\n",
       "rating          float64\n",
       "discount        float64\n",
       "dtype: object"
      ]
     },
     "execution_count": 37,
     "metadata": {},
     "output_type": "execute_result"
    }
   ],
   "source": [
    "df.dtypes"
   ]
  },
  {
   "cell_type": "markdown",
   "id": "6174d9e6",
   "metadata": {},
   "source": [
    "### categorical univariate analysis"
   ]
  },
  {
   "cell_type": "markdown",
   "id": "98ff0ca8",
   "metadata": {},
   "source": [
    "our categorical variables : **\"product\", \"category\", \"sub_category\", \"brand\", \"type\"**"
   ]
  },
  {
   "cell_type": "code",
   "execution_count": 38,
   "id": "c1bd391c",
   "metadata": {},
   "outputs": [],
   "source": [
    "import textwrap\n",
    "def wrap_labels(ax, width, break_long_words=False):\n",
    "    labels = []\n",
    "    for label in ax.get_xticklabels():\n",
    "        text = label.get_text()\n",
    "        labels.append(textwrap.fill(text, width=width,\n",
    "                      break_long_words=break_long_words))\n",
    "    ax.set_xticklabels(labels, rotation=0)"
   ]
  },
  {
   "cell_type": "markdown",
   "id": "2ff457db",
   "metadata": {},
   "source": [
    "## 'category' variable"
   ]
  },
  {
   "cell_type": "markdown",
   "id": "3faa98f2",
   "metadata": {},
   "source": [
    "# Q.1 Lets check which category sales as more as count and as profit?"
   ]
  },
  {
   "cell_type": "code",
   "execution_count": 39,
   "id": "38b88d89",
   "metadata": {},
   "outputs": [
    {
     "data": {
      "text/plain": [
       "array(['Beauty & Hygiene', 'Kitchen, Garden & Pets',\n",
       "       'Cleaning & Household', 'Gourmet & World Food',\n",
       "       'Foodgrains, Oil & Masala', 'Snacks & Branded Foods', 'Beverages',\n",
       "       'Bakery, Cakes & Dairy', 'Baby Care', 'Fruits & Vegetables',\n",
       "       'Eggs, Meat & Fish'], dtype=object)"
      ]
     },
     "execution_count": 39,
     "metadata": {},
     "output_type": "execute_result"
    }
   ],
   "source": [
    "df['category'].unique()"
   ]
  },
  {
   "cell_type": "code",
   "execution_count": 40,
   "id": "2633f6fc",
   "metadata": {},
   "outputs": [
    {
     "data": {
      "text/plain": [
       "Beauty & Hygiene            7677\n",
       "Gourmet & World Food        4677\n",
       "Kitchen, Garden & Pets      3455\n",
       "Snacks & Branded Foods      2809\n",
       "Foodgrains, Oil & Masala    2673\n",
       "Cleaning & Household        2649\n",
       "Beverages                    883\n",
       "Bakery, Cakes & Dairy        850\n",
       "Baby Care                    610\n",
       "Fruits & Vegetables          557\n",
       "Eggs, Meat & Fish            350\n",
       "Name: category, dtype: int64"
      ]
     },
     "execution_count": 40,
     "metadata": {},
     "output_type": "execute_result"
    }
   ],
   "source": [
    "df.category.value_counts()"
   ]
  },
  {
   "cell_type": "code",
   "execution_count": 41,
   "id": "45c2ba36",
   "metadata": {},
   "outputs": [
    {
     "data": {
      "image/png": "[encoded data removed]",
      "text/plain": [
       "<Figure size 1008x288 with 1 Axes>"
      ]
     },
     "metadata": {},
     "output_type": "display_data"
    }
   ],
   "source": [
    "fig = plt.figure(figsize=(14,4))\n",
    "ax = fig.add_axes([0,0,1,1])\n",
    "sns.countplot(data = df, x = 'category', palette='mako')\n",
    "plt.title('No. of products sold in each category')\n",
    "ax.set_xlabel(\"Categories\",fontsize=15, weight='semibold')\n",
    "ax.set_ylabel(\"Count\",fontsize=15, weight='semibold')\n",
    "wrap_labels(ax, 10)"
   ]
  },
  {
   "cell_type": "markdown",
   "id": "ec031928",
   "metadata": {},
   "source": [
    "### Notes:\n",
    "\n",
    "As we see the most sold products from **Beauty & Hygiene** category and that seems the interest of indians. **Eggs, Meat & Fish** category has the least sold products that may indicate to low quality of these products."
   ]
  },
  {
   "cell_type": "code",
   "execution_count": 42,
   "id": "affe07a0",
   "metadata": {},
   "outputs": [
    {
     "data": {
      "text/html": [
       "<div>\n",
       "<style scoped>\n",
       "    .dataframe tbody tr th:only-of-type {\n",
       "        vertical-align: middle;\n",
       "    }\n",
       "\n",
       "    .dataframe tbody tr th {\n",
       "        vertical-align: top;\n",
       "    }\n",
       "\n",
       "    .dataframe thead th {\n",
       "        text-align: right;\n",
       "    }\n",
       "</style>\n",
       "<table border=\"1\" class=\"dataframe\">\n",
       "  <thead>\n",
       "    <tr style=\"text-align: right;\">\n",
       "      <th></th>\n",
       "      <th>category</th>\n",
       "      <th>profit</th>\n",
       "    </tr>\n",
       "  </thead>\n",
       "  <tbody>\n",
       "    <tr>\n",
       "      <th>0</th>\n",
       "      <td>Baby Care</td>\n",
       "      <td>326317.17</td>\n",
       "    </tr>\n",
       "    <tr>\n",
       "      <th>1</th>\n",
       "      <td>Bakery, Cakes &amp; Dairy</td>\n",
       "      <td>121416.14</td>\n",
       "    </tr>\n",
       "    <tr>\n",
       "      <th>2</th>\n",
       "      <td>Beauty &amp; Hygiene</td>\n",
       "      <td>3196823.85</td>\n",
       "    </tr>\n",
       "    <tr>\n",
       "      <th>3</th>\n",
       "      <td>Beverages</td>\n",
       "      <td>211936.67</td>\n",
       "    </tr>\n",
       "    <tr>\n",
       "      <th>4</th>\n",
       "      <td>Cleaning &amp; Household</td>\n",
       "      <td>600115.09</td>\n",
       "    </tr>\n",
       "    <tr>\n",
       "      <th>5</th>\n",
       "      <td>Eggs, Meat &amp; Fish</td>\n",
       "      <td>101114.12</td>\n",
       "    </tr>\n",
       "    <tr>\n",
       "      <th>6</th>\n",
       "      <td>Foodgrains, Oil &amp; Masala</td>\n",
       "      <td>516641.23</td>\n",
       "    </tr>\n",
       "    <tr>\n",
       "      <th>7</th>\n",
       "      <td>Fruits &amp; Vegetables</td>\n",
       "      <td>28345.36</td>\n",
       "    </tr>\n",
       "    <tr>\n",
       "      <th>8</th>\n",
       "      <td>Gourmet &amp; World Food</td>\n",
       "      <td>1497153.06</td>\n",
       "    </tr>\n",
       "    <tr>\n",
       "      <th>9</th>\n",
       "      <td>Kitchen, Garden &amp; Pets</td>\n",
       "      <td>1738397.12</td>\n",
       "    </tr>\n",
       "    <tr>\n",
       "      <th>10</th>\n",
       "      <td>Snacks &amp; Branded Foods</td>\n",
       "      <td>364290.08</td>\n",
       "    </tr>\n",
       "  </tbody>\n",
       "</table>\n",
       "</div>"
      ],
      "text/plain": [
       "                    category      profit\n",
       "0                  Baby Care   326317.17\n",
       "1      Bakery, Cakes & Dairy   121416.14\n",
       "2           Beauty & Hygiene  3196823.85\n",
       "3                  Beverages   211936.67\n",
       "4       Cleaning & Household   600115.09\n",
       "5          Eggs, Meat & Fish   101114.12\n",
       "6   Foodgrains, Oil & Masala   516641.23\n",
       "7        Fruits & Vegetables    28345.36\n",
       "8       Gourmet & World Food  1497153.06\n",
       "9     Kitchen, Garden & Pets  1738397.12\n",
       "10    Snacks & Branded Foods   364290.08"
      ]
     },
     "execution_count": 42,
     "metadata": {},
     "output_type": "execute_result"
    }
   ],
   "source": [
    "data = pd.DataFrame(df.groupby('category')['sale_price'].sum()).reset_index()\n",
    "data.columns = ['category', 'profit']\n",
    "data"
   ]
  },
  {
   "cell_type": "code",
   "execution_count": 43,
   "id": "86bcffed",
   "metadata": {
    "scrolled": false
   },
   "outputs": [
    {
     "data": {
      "image/png": "[encoded data removed]",
      "text/plain": [
       "<Figure size 1008x288 with 1 Axes>"
      ]
     },
     "metadata": {},
     "output_type": "display_data"
    }
   ],
   "source": [
    "fig = plt.figure(figsize=(14,4))\n",
    "ax = fig.add_axes([0,0,1,1])\n",
    "sns.barplot(data = data, x = 'category', y = 'profit', palette='mako')\n",
    "plt.title('Categories Profit')\n",
    "ax.set_xlabel(\"Cateories\",fontsize=15, weight='semibold')\n",
    "ax.set_ylabel(\"Profit\",fontsize=15, weight='semibold')\n",
    "wrap_labels(ax, 10)"
   ]
  },
  {
   "cell_type": "markdown",
   "id": "9f3a955d",
   "metadata": {},
   "source": [
    "### Notes:\n",
    "\n",
    "As **Beauty & Hygiene** category product's was sold a lot, it's profit is so big. And still **Eggs, Meat & Fish** is least profit as well."
   ]
  },
  {
   "cell_type": "markdown",
   "id": "f4a0098c",
   "metadata": {},
   "source": [
    "### Now lets check which category has highest and lowest sale percent?"
   ]
  },
  {
   "cell_type": "code",
   "execution_count": 44,
   "id": "ead35a72",
   "metadata": {},
   "outputs": [
    {
     "data": {
      "text/plain": [
       "Beauty & Hygiene            28.234645\n",
       "Gourmet & World Food        17.201177\n",
       "Kitchen, Garden & Pets      12.706878\n",
       "Snacks & Branded Foods      10.331004\n",
       "Foodgrains, Oil & Masala     9.830820\n",
       "Cleaning & Household         9.742552\n",
       "Beverages                    3.247517\n",
       "Bakery, Cakes & Dairy        3.126149\n",
       "Baby Care                    2.243472\n",
       "Fruits & Vegetables          2.048547\n",
       "Eggs, Meat & Fish            1.287238\n",
       "Name: category, dtype: float64"
      ]
     },
     "execution_count": 44,
     "metadata": {},
     "output_type": "execute_result"
    }
   ],
   "source": [
    "cat_per=df.category.value_counts(normalize=True)*100\n",
    "cat_per"
   ]
  },
  {
   "cell_type": "code",
   "execution_count": 45,
   "id": "e8aa0012",
   "metadata": {
    "scrolled": false
   },
   "outputs": [
    {
     "data": {
      "image/png": "[encoded data removed]",
      "text/plain": [
       "<Figure size 576x576 with 1 Axes>"
      ]
     },
     "metadata": {},
     "output_type": "display_data"
    }
   ],
   "source": [
    "sns.set_palette(\"viridis\")\n",
    "plt.figure(figsize=[8,8])\n",
    "cat_per=df.category.value_counts(normalize=True)*100\n",
    "l=df.category.unique()\n",
    "plt.pie(cat_per, labels = l)\n",
    "plt.title(\"Category\", fontsize=20,loc='center',color=\"black\")\n",
    "plt.show()\n"
   ]
  },
  {
   "cell_type": "markdown",
   "id": "ee6ef396",
   "metadata": {},
   "source": [
    "**Beauty & Hygiene** has highest sale percentage which is 28.234645%<br>\n",
    "**Eggs, Meat & Fish** has lowest sale percent which is about 1.287238%\n",
    "\n"
   ]
  },
  {
   "cell_type": "markdown",
   "id": "856f306f",
   "metadata": {},
   "source": [
    "# Q2. Top 10 sold Products?"
   ]
  },
  {
   "cell_type": "code",
   "execution_count": 46,
   "id": "a04d3ea1",
   "metadata": {},
   "outputs": [
    {
     "data": {
      "text/html": [
       "<div>\n",
       "<style scoped>\n",
       "    .dataframe tbody tr th:only-of-type {\n",
       "        vertical-align: middle;\n",
       "    }\n",
       "\n",
       "    .dataframe tbody tr th {\n",
       "        vertical-align: top;\n",
       "    }\n",
       "\n",
       "    .dataframe thead th {\n",
       "        text-align: right;\n",
       "    }\n",
       "</style>\n",
       "<table border=\"1\" class=\"dataframe\">\n",
       "  <thead>\n",
       "    <tr style=\"text-align: right;\">\n",
       "      <th></th>\n",
       "      <th>product</th>\n",
       "      <th>category</th>\n",
       "      <th>count</th>\n",
       "    </tr>\n",
       "  </thead>\n",
       "  <tbody>\n",
       "    <tr>\n",
       "      <th>0</th>\n",
       "      <td>Turmeric Powder/Arisina Pudi</td>\n",
       "      <td>Foodgrains, Oil &amp; Masala</td>\n",
       "      <td>26</td>\n",
       "    </tr>\n",
       "    <tr>\n",
       "      <th>1</th>\n",
       "      <td>Cow Ghee/Tuppa</td>\n",
       "      <td>Foodgrains, Oil &amp; Masala</td>\n",
       "      <td>14</td>\n",
       "    </tr>\n",
       "    <tr>\n",
       "      <th>2</th>\n",
       "      <td>Extra Virgin Olive Oil</td>\n",
       "      <td>Gourmet &amp; World Food</td>\n",
       "      <td>14</td>\n",
       "    </tr>\n",
       "    <tr>\n",
       "      <th>3</th>\n",
       "      <td>Soft Drink</td>\n",
       "      <td>Beverages</td>\n",
       "      <td>12</td>\n",
       "    </tr>\n",
       "    <tr>\n",
       "      <th>4</th>\n",
       "      <td>Ghee/Tuppa</td>\n",
       "      <td>Foodgrains, Oil &amp; Masala</td>\n",
       "      <td>11</td>\n",
       "    </tr>\n",
       "    <tr>\n",
       "      <th>5</th>\n",
       "      <td>Powder - Coriander</td>\n",
       "      <td>Foodgrains, Oil &amp; Masala</td>\n",
       "      <td>11</td>\n",
       "    </tr>\n",
       "    <tr>\n",
       "      <th>6</th>\n",
       "      <td>Coriander Powder</td>\n",
       "      <td>Foodgrains, Oil &amp; Masala</td>\n",
       "      <td>11</td>\n",
       "    </tr>\n",
       "    <tr>\n",
       "      <th>7</th>\n",
       "      <td>Olive Oil - Extra Virgin</td>\n",
       "      <td>Gourmet &amp; World Food</td>\n",
       "      <td>11</td>\n",
       "    </tr>\n",
       "    <tr>\n",
       "      <th>8</th>\n",
       "      <td>Hand Sanitizer</td>\n",
       "      <td>Beauty &amp; Hygiene</td>\n",
       "      <td>10</td>\n",
       "    </tr>\n",
       "    <tr>\n",
       "      <th>9</th>\n",
       "      <td>Casting Creme Gloss Hair Color</td>\n",
       "      <td>Beauty &amp; Hygiene</td>\n",
       "      <td>9</td>\n",
       "    </tr>\n",
       "  </tbody>\n",
       "</table>\n",
       "</div>"
      ],
      "text/plain": [
       "                          product                  category  count\n",
       "0    Turmeric Powder/Arisina Pudi  Foodgrains, Oil & Masala     26\n",
       "1                  Cow Ghee/Tuppa  Foodgrains, Oil & Masala     14\n",
       "2          Extra Virgin Olive Oil      Gourmet & World Food     14\n",
       "3                      Soft Drink                 Beverages     12\n",
       "4                      Ghee/Tuppa  Foodgrains, Oil & Masala     11\n",
       "5              Powder - Coriander  Foodgrains, Oil & Masala     11\n",
       "6                Coriander Powder  Foodgrains, Oil & Masala     11\n",
       "7        Olive Oil - Extra Virgin      Gourmet & World Food     11\n",
       "8                  Hand Sanitizer          Beauty & Hygiene     10\n",
       "9  Casting Creme Gloss Hair Color          Beauty & Hygiene      9"
      ]
     },
     "execution_count": 46,
     "metadata": {},
     "output_type": "execute_result"
    }
   ],
   "source": [
    "top_10 = pd.DataFrame(df[['product', 'category']].value_counts().head(10)).reset_index()\n",
    "top_10.columns = ['product', 'category', 'count']\n",
    "top_10"
   ]
  },
  {
   "cell_type": "code",
   "execution_count": 60,
   "id": "4b91410b",
   "metadata": {},
   "outputs": [
    {
     "data": {
      "image/png": "[encoded data removed]",
      "text/plain": [
       "<Figure size 1008x288 with 1 Axes>"
      ]
     },
     "metadata": {},
     "output_type": "display_data"
    }
   ],
   "source": [
    "fig = plt.figure(figsize=(14,4))\n",
    "ax = fig.add_axes([0,0,1,1])\n",
    "sns.barplot(data = top_10, x = 'product', y = 'count', palette='mako')\n",
    "plt.title('Top 10 sold products')\n",
    "ax.set_xlabel(\"Most sold products\",fontsize=15, weight='semibold')\n",
    "ax.set_ylabel(\"Number\",fontsize=15, weight='semibold')\n",
    "wrap_labels(ax, 10)"
   ]
  },
  {
   "cell_type": "code",
   "execution_count": 61,
   "id": "e9c485d3",
   "metadata": {
    "scrolled": true
   },
   "outputs": [
    {
     "data": {
      "image/png": "[encoded data removed]",
      "text/plain": [
       "<Figure size 1008x288 with 1 Axes>"
      ]
     },
     "metadata": {},
     "output_type": "display_data"
    }
   ],
   "source": [
    "fig = plt.figure(figsize=(14,4))\n",
    "ax = fig.add_axes([0,0,1,1])\n",
    "sns.barplot(data = top_10, x = 'product', y = 'count', hue = 'category', palette='mako')\n",
    "plt.title('Top 10 sold products')\n",
    "plt.legend(bbox_to_anchor=(1.02, 1), loc='upper left', borderaxespad=0)\n",
    "ax.set_xlabel(\"Most sold products\",fontsize=15, weight='semibold')\n",
    "ax.set_ylabel(\"Number\",fontsize=15, weight='semibold')\n",
    "wrap_labels(ax, 10)"
   ]
  },
  {
   "cell_type": "markdown",
   "id": "6cd7da1d",
   "metadata": {},
   "source": [
    "### Notes:\n",
    "\n",
    "As we see from above analysis that bigbasket supermarket customers have interest in **Foodgrains, Oil & Masala** category. **Turmeric** is most sold product as it's on **Foodgrains, Oil & Masala** we can expect that indian is interest with haircare."
   ]
  },
  {
   "cell_type": "markdown",
   "id": "575bb6b7",
   "metadata": {},
   "source": [
    "# Q3. Least 10 sold Products?"
   ]
  },
  {
   "cell_type": "code",
   "execution_count": 62,
   "id": "5de28229",
   "metadata": {},
   "outputs": [
    {
     "data": {
      "text/html": [
       "<div>\n",
       "<style scoped>\n",
       "    .dataframe tbody tr th:only-of-type {\n",
       "        vertical-align: middle;\n",
       "    }\n",
       "\n",
       "    .dataframe tbody tr th {\n",
       "        vertical-align: top;\n",
       "    }\n",
       "\n",
       "    .dataframe thead th {\n",
       "        text-align: right;\n",
       "    }\n",
       "</style>\n",
       "<table border=\"1\" class=\"dataframe\">\n",
       "  <thead>\n",
       "    <tr style=\"text-align: right;\">\n",
       "      <th></th>\n",
       "      <th>product</th>\n",
       "      <th>category</th>\n",
       "      <th>count</th>\n",
       "    </tr>\n",
       "  </thead>\n",
       "  <tbody>\n",
       "    <tr>\n",
       "      <th>0</th>\n",
       "      <td>Gel Pen - Black, Octane</td>\n",
       "      <td>Cleaning &amp; Household</td>\n",
       "      <td>1</td>\n",
       "    </tr>\n",
       "    <tr>\n",
       "      <th>1</th>\n",
       "      <td>Gel Pen - Black, Fasty</td>\n",
       "      <td>Cleaning &amp; Household</td>\n",
       "      <td>1</td>\n",
       "    </tr>\n",
       "    <tr>\n",
       "      <th>2</th>\n",
       "      <td>Gel One Pen</td>\n",
       "      <td>Cleaning &amp; Household</td>\n",
       "      <td>1</td>\n",
       "    </tr>\n",
       "    <tr>\n",
       "      <th>3</th>\n",
       "      <td>Gel Bathing Bar - Patchouli &amp; Macadamia La Fan...</td>\n",
       "      <td>Beauty &amp; Hygiene</td>\n",
       "      <td>1</td>\n",
       "    </tr>\n",
       "    <tr>\n",
       "      <th>4</th>\n",
       "      <td>Gel Bathing Bar - Multi Variant (Buy 4 &amp; Get 1...</td>\n",
       "      <td>Beauty &amp; Hygiene</td>\n",
       "      <td>1</td>\n",
       "    </tr>\n",
       "    <tr>\n",
       "      <th>5</th>\n",
       "      <td>Gel Bathing Bar - Men, Energising Sport</td>\n",
       "      <td>Beauty &amp; Hygiene</td>\n",
       "      <td>1</td>\n",
       "    </tr>\n",
       "    <tr>\n",
       "      <th>6</th>\n",
       "      <td>Gel Bathing Bar - Men Energising Sport</td>\n",
       "      <td>Beauty &amp; Hygiene</td>\n",
       "      <td>1</td>\n",
       "    </tr>\n",
       "    <tr>\n",
       "      <th>7</th>\n",
       "      <td>Gel Bathing Bar - Bearberry &amp; Blackcurrant</td>\n",
       "      <td>Beauty &amp; Hygiene</td>\n",
       "      <td>1</td>\n",
       "    </tr>\n",
       "    <tr>\n",
       "      <th>8</th>\n",
       "      <td>Gel Bar - Peach &amp; Avocado Mild Dew</td>\n",
       "      <td>Beauty &amp; Hygiene</td>\n",
       "      <td>1</td>\n",
       "    </tr>\n",
       "    <tr>\n",
       "      <th>9</th>\n",
       "      <td>pasta shell</td>\n",
       "      <td>Snacks &amp; Branded Foods</td>\n",
       "      <td>1</td>\n",
       "    </tr>\n",
       "  </tbody>\n",
       "</table>\n",
       "</div>"
      ],
      "text/plain": [
       "                                             product                category  \\\n",
       "0                            Gel Pen - Black, Octane    Cleaning & Household   \n",
       "1                             Gel Pen - Black, Fasty    Cleaning & Household   \n",
       "2                                        Gel One Pen    Cleaning & Household   \n",
       "3  Gel Bathing Bar - Patchouli & Macadamia La Fan...        Beauty & Hygiene   \n",
       "4  Gel Bathing Bar - Multi Variant (Buy 4 & Get 1...        Beauty & Hygiene   \n",
       "5            Gel Bathing Bar - Men, Energising Sport        Beauty & Hygiene   \n",
       "6             Gel Bathing Bar - Men Energising Sport        Beauty & Hygiene   \n",
       "7         Gel Bathing Bar - Bearberry & Blackcurrant        Beauty & Hygiene   \n",
       "8                 Gel Bar - Peach & Avocado Mild Dew        Beauty & Hygiene   \n",
       "9                                        pasta shell  Snacks & Branded Foods   \n",
       "\n",
       "   count  \n",
       "0      1  \n",
       "1      1  \n",
       "2      1  \n",
       "3      1  \n",
       "4      1  \n",
       "5      1  \n",
       "6      1  \n",
       "7      1  \n",
       "8      1  \n",
       "9      1  "
      ]
     },
     "execution_count": 62,
     "metadata": {},
     "output_type": "execute_result"
    }
   ],
   "source": [
    "least_10 = pd.DataFrame(df[['product', 'category']].value_counts().tail(10)).reset_index()\n",
    "least_10.columns = ['product', 'category', 'count']\n",
    "least_10"
   ]
  },
  {
   "cell_type": "code",
   "execution_count": 63,
   "id": "c5b16e7b",
   "metadata": {
    "scrolled": false
   },
   "outputs": [
    {
     "data": {
      "image/png": "[encoded data removed]",
      "text/plain": [
       "<Figure size 1008x288 with 1 Axes>"
      ]
     },
     "metadata": {},
     "output_type": "display_data"
    }
   ],
   "source": [
    "fig = plt.figure(figsize=(14,4))\n",
    "ax = fig.add_axes([0,0,1,1])\n",
    "sns.barplot(data = least_10, x = 'product', y = 'count', palette='mako')\n",
    "plt.title('Least 10 10 sold products')\n",
    "ax.set_xlabel(\"Least sold products\",fontsize=15, weight='semibold')\n",
    "ax.set_ylabel(\"Number\",fontsize=15, weight='semibold')\n",
    "wrap_labels(ax, 10)"
   ]
  },
  {
   "cell_type": "code",
   "execution_count": 64,
   "id": "9486bcda",
   "metadata": {},
   "outputs": [
    {
     "data": {
      "image/png": "[encoded data removed]",
      "text/plain": [
       "<Figure size 1008x288 with 1 Axes>"
      ]
     },
     "metadata": {},
     "output_type": "display_data"
    }
   ],
   "source": [
    "fig = plt.figure(figsize=(14,4))\n",
    "ax = fig.add_axes([0,0,1,1])\n",
    "sns.barplot(data = least_10, x = 'product', y = 'count', hue = 'category', palette='mako')\n",
    "plt.title('Least 10 sold products')\n",
    "plt.legend(bbox_to_anchor=(1.02, 1), loc='upper left', borderaxespad=0)\n",
    "ax.set_xlabel(\"Least sold products\",fontsize=15, weight='semibold')\n",
    "ax.set_ylabel(\"Number\",fontsize=15, weight='semibold')\n",
    "wrap_labels(ax, 10)"
   ]
  },
  {
   "cell_type": "markdown",
   "id": "14c907e6",
   "metadata": {},
   "source": [
    "### Notes:\n",
    "\n",
    "As we see least sold products is in **Cleaning & Household, Beatuy & Hygiene, and Snacks & Branded Foods**."
   ]
  },
  {
   "cell_type": "code",
   "execution_count": 68,
   "id": "2cc0abf9",
   "metadata": {},
   "outputs": [
    {
     "data": {
      "text/html": [
       "<div>\n",
       "<style scoped>\n",
       "    .dataframe tbody tr th:only-of-type {\n",
       "        vertical-align: middle;\n",
       "    }\n",
       "\n",
       "    .dataframe tbody tr th {\n",
       "        vertical-align: top;\n",
       "    }\n",
       "\n",
       "    .dataframe thead th {\n",
       "        text-align: right;\n",
       "    }\n",
       "</style>\n",
       "<table border=\"1\" class=\"dataframe\">\n",
       "  <thead>\n",
       "    <tr style=\"text-align: right;\">\n",
       "      <th></th>\n",
       "      <th>product</th>\n",
       "      <th>category</th>\n",
       "      <th>sub_category</th>\n",
       "      <th>brand</th>\n",
       "      <th>sale_price</th>\n",
       "      <th>market_price</th>\n",
       "      <th>type</th>\n",
       "      <th>rating</th>\n",
       "      <th>discount</th>\n",
       "    </tr>\n",
       "  </thead>\n",
       "  <tbody>\n",
       "    <tr>\n",
       "      <th>0</th>\n",
       "      <td>Garlic Oil - Vegetarian Capsule 500 mg</td>\n",
       "      <td>Beauty &amp; Hygiene</td>\n",
       "      <td>Hair Care</td>\n",
       "      <td>Sri Sri Ayurveda</td>\n",
       "      <td>220.00</td>\n",
       "      <td>220.0</td>\n",
       "      <td>Hair Oil &amp; Serum</td>\n",
       "      <td>4.1</td>\n",
       "      <td>0.000000</td>\n",
       "    </tr>\n",
       "    <tr>\n",
       "      <th>4</th>\n",
       "      <td>Creme Soft Soap - For Hands &amp; Body</td>\n",
       "      <td>Beauty &amp; Hygiene</td>\n",
       "      <td>Bath &amp; Hand Wash</td>\n",
       "      <td>Nivea</td>\n",
       "      <td>162.00</td>\n",
       "      <td>162.0</td>\n",
       "      <td>Bathing Bars &amp; Soaps</td>\n",
       "      <td>4.4</td>\n",
       "      <td>0.000000</td>\n",
       "    </tr>\n",
       "    <tr>\n",
       "      <th>7</th>\n",
       "      <td>Hand Sanitizer - 70% Alcohol Base</td>\n",
       "      <td>Beauty &amp; Hygiene</td>\n",
       "      <td>Bath &amp; Hand Wash</td>\n",
       "      <td>Bionova</td>\n",
       "      <td>250.00</td>\n",
       "      <td>250.0</td>\n",
       "      <td>Hand Wash &amp; Sanitizers</td>\n",
       "      <td>4.0</td>\n",
       "      <td>0.000000</td>\n",
       "    </tr>\n",
       "    <tr>\n",
       "      <th>9</th>\n",
       "      <td>Scrub Pad - Anti- Bacterial, Regular</td>\n",
       "      <td>Cleaning &amp; Household</td>\n",
       "      <td>Mops, Brushes &amp; Scrubs</td>\n",
       "      <td>Scotch brite</td>\n",
       "      <td>20.00</td>\n",
       "      <td>20.0</td>\n",
       "      <td>Utensil Scrub-Pad, Glove</td>\n",
       "      <td>4.3</td>\n",
       "      <td>0.000000</td>\n",
       "    </tr>\n",
       "    <tr>\n",
       "      <th>10</th>\n",
       "      <td>Wheat Grass Powder - Raw</td>\n",
       "      <td>Gourmet &amp; World Food</td>\n",
       "      <td>Cooking &amp; Baking Needs</td>\n",
       "      <td>NUTRASHIL</td>\n",
       "      <td>261.00</td>\n",
       "      <td>290.0</td>\n",
       "      <td>Flours &amp; Pre-Mixes</td>\n",
       "      <td>4.0</td>\n",
       "      <td>10.000000</td>\n",
       "    </tr>\n",
       "    <tr>\n",
       "      <th>...</th>\n",
       "      <td>...</td>\n",
       "      <td>...</td>\n",
       "      <td>...</td>\n",
       "      <td>...</td>\n",
       "      <td>...</td>\n",
       "      <td>...</td>\n",
       "      <td>...</td>\n",
       "      <td>...</td>\n",
       "      <td>...</td>\n",
       "    </tr>\n",
       "    <tr>\n",
       "      <th>27546</th>\n",
       "      <td>Organic Powder - Garam Masala</td>\n",
       "      <td>Foodgrains, Oil &amp; Masala</td>\n",
       "      <td>Organic Staples</td>\n",
       "      <td>Organic Tattva</td>\n",
       "      <td>152.00</td>\n",
       "      <td>160.0</td>\n",
       "      <td>Organic Masalas &amp; Spices</td>\n",
       "      <td>4.2</td>\n",
       "      <td>5.000000</td>\n",
       "    </tr>\n",
       "    <tr>\n",
       "      <th>27548</th>\n",
       "      <td>Apple Cider Vinegar Shampoo</td>\n",
       "      <td>Beauty &amp; Hygiene</td>\n",
       "      <td>Hair Care</td>\n",
       "      <td>Morpheme Remedies</td>\n",
       "      <td>499.00</td>\n",
       "      <td>499.0</td>\n",
       "      <td>Shampoo &amp; Conditioner</td>\n",
       "      <td>5.0</td>\n",
       "      <td>0.000000</td>\n",
       "    </tr>\n",
       "    <tr>\n",
       "      <th>27551</th>\n",
       "      <td>Rosemary</td>\n",
       "      <td>Gourmet &amp; World Food</td>\n",
       "      <td>Cooking &amp; Baking Needs</td>\n",
       "      <td>Puramate</td>\n",
       "      <td>67.50</td>\n",
       "      <td>75.0</td>\n",
       "      <td>Herbs, Seasonings &amp; Rubs</td>\n",
       "      <td>4.0</td>\n",
       "      <td>10.000000</td>\n",
       "    </tr>\n",
       "    <tr>\n",
       "      <th>27553</th>\n",
       "      <td>Green Tea - Pure Original</td>\n",
       "      <td>Beverages</td>\n",
       "      <td>Tea</td>\n",
       "      <td>Tetley</td>\n",
       "      <td>396.00</td>\n",
       "      <td>495.0</td>\n",
       "      <td>Tea Bags</td>\n",
       "      <td>4.2</td>\n",
       "      <td>20.000000</td>\n",
       "    </tr>\n",
       "    <tr>\n",
       "      <th>27554</th>\n",
       "      <td>United Dreams Go Far Deodorant</td>\n",
       "      <td>Beauty &amp; Hygiene</td>\n",
       "      <td>Men's Grooming</td>\n",
       "      <td>United Colors Of Benetton</td>\n",
       "      <td>214.53</td>\n",
       "      <td>390.0</td>\n",
       "      <td>Men's Deodorants</td>\n",
       "      <td>4.5</td>\n",
       "      <td>44.992308</td>\n",
       "    </tr>\n",
       "  </tbody>\n",
       "</table>\n",
       "<p>12238 rows × 9 columns</p>\n",
       "</div>"
      ],
      "text/plain": [
       "                                      product                  category  \\\n",
       "0      Garlic Oil - Vegetarian Capsule 500 mg          Beauty & Hygiene   \n",
       "4          Creme Soft Soap - For Hands & Body          Beauty & Hygiene   \n",
       "7           Hand Sanitizer - 70% Alcohol Base          Beauty & Hygiene   \n",
       "9        Scrub Pad - Anti- Bacterial, Regular      Cleaning & Household   \n",
       "10                   Wheat Grass Powder - Raw      Gourmet & World Food   \n",
       "...                                       ...                       ...   \n",
       "27546           Organic Powder - Garam Masala  Foodgrains, Oil & Masala   \n",
       "27548             Apple Cider Vinegar Shampoo          Beauty & Hygiene   \n",
       "27551                                Rosemary      Gourmet & World Food   \n",
       "27553               Green Tea - Pure Original                 Beverages   \n",
       "27554          United Dreams Go Far Deodorant          Beauty & Hygiene   \n",
       "\n",
       "                 sub_category                       brand  sale_price  \\\n",
       "0                   Hair Care           Sri Sri Ayurveda       220.00   \n",
       "4            Bath & Hand Wash                       Nivea      162.00   \n",
       "7            Bath & Hand Wash                     Bionova      250.00   \n",
       "9      Mops, Brushes & Scrubs                Scotch brite       20.00   \n",
       "10     Cooking & Baking Needs                   NUTRASHIL      261.00   \n",
       "...                       ...                         ...         ...   \n",
       "27546         Organic Staples              Organic Tattva      152.00   \n",
       "27548               Hair Care           Morpheme Remedies      499.00   \n",
       "27551  Cooking & Baking Needs                    Puramate       67.50   \n",
       "27553                     Tea                      Tetley      396.00   \n",
       "27554          Men's Grooming  United Colors Of Benetton       214.53   \n",
       "\n",
       "       market_price                      type  rating   discount  \n",
       "0             220.0          Hair Oil & Serum     4.1   0.000000  \n",
       "4             162.0      Bathing Bars & Soaps     4.4   0.000000  \n",
       "7             250.0    Hand Wash & Sanitizers     4.0   0.000000  \n",
       "9              20.0  Utensil Scrub-Pad, Glove     4.3   0.000000  \n",
       "10            290.0        Flours & Pre-Mixes     4.0  10.000000  \n",
       "...             ...                       ...     ...        ...  \n",
       "27546         160.0  Organic Masalas & Spices     4.2   5.000000  \n",
       "27548         499.0     Shampoo & Conditioner     5.0   0.000000  \n",
       "27551          75.0  Herbs, Seasonings & Rubs     4.0  10.000000  \n",
       "27553         495.0                  Tea Bags     4.2  20.000000  \n",
       "27554         390.0          Men's Deodorants     4.5  44.992308  \n",
       "\n",
       "[12238 rows x 9 columns]"
      ]
     },
     "execution_count": 68,
     "metadata": {},
     "output_type": "execute_result"
    }
   ],
   "source": [
    "a=df[df['rating']>=4]\n",
    "a"
   ]
  },
  {
   "cell_type": "code",
   "execution_count": null,
   "id": "5f6ae3cc",
   "metadata": {},
   "outputs": [],
   "source": [
    "top_10 = pd.DataFrame(df[['product', 'category']].value_counts().head(10)).reset_index()"
   ]
  },
  {
   "cell_type": "code",
   "execution_count": 71,
   "id": "3bd3e701",
   "metadata": {},
   "outputs": [
    {
     "ename": "IndexError",
     "evalue": "only integers, slices (`:`), ellipsis (`...`), numpy.newaxis (`None`) and integer or boolean arrays are valid indices",
     "output_type": "error",
     "traceback": [
      "\u001b[1;31m---------------------------------------------------------------------------\u001b[0m",
      "\u001b[1;31mIndexError\u001b[0m                                Traceback (most recent call last)",
      "\u001b[1;32m<ipython-input-71-3b832a092b40>\u001b[0m in \u001b[0;36m<module>\u001b[1;34m\u001b[0m\n\u001b[0;32m      1\u001b[0m \u001b[0mhighrated\u001b[0m\u001b[1;33m=\u001b[0m\u001b[0mpd\u001b[0m\u001b[1;33m.\u001b[0m\u001b[0mDataFrame\u001b[0m\u001b[1;33m(\u001b[0m\u001b[0mdf\u001b[0m\u001b[1;33m[\u001b[0m\u001b[1;33m[\u001b[0m\u001b[1;34m'category'\u001b[0m\u001b[1;33m,\u001b[0m \u001b[1;34m'rating'\u001b[0m\u001b[1;33m]\u001b[0m\u001b[1;33m]\u001b[0m\u001b[1;33m.\u001b[0m\u001b[0mvalue_counts\u001b[0m\u001b[1;33m(\u001b[0m\u001b[1;33m)\u001b[0m\u001b[1;33m.\u001b[0m\u001b[0mreset_index\u001b[0m\u001b[1;33m(\u001b[0m\u001b[1;33m)\u001b[0m\u001b[1;33m)\u001b[0m\u001b[1;33m\u001b[0m\u001b[1;33m\u001b[0m\u001b[0m\n\u001b[1;32m----> 2\u001b[1;33m \u001b[0mhighrated\u001b[0m\u001b[1;33m.\u001b[0m\u001b[0mcolumns\u001b[0m\u001b[1;33m[\u001b[0m\u001b[1;34m'category'\u001b[0m\u001b[1;33m,\u001b[0m\u001b[1;34m'rating'\u001b[0m\u001b[1;33m]\u001b[0m\u001b[1;33m\u001b[0m\u001b[1;33m\u001b[0m\u001b[0m\n\u001b[0m",
      "\u001b[1;32m~\\anaconda3\\lib\\site-packages\\pandas\\core\\indexes\\base.py\u001b[0m in \u001b[0;36m__getitem__\u001b[1;34m(self, key)\u001b[0m\n\u001b[0;32m   5053\u001b[0m             \u001b[0mkey\u001b[0m \u001b[1;33m=\u001b[0m \u001b[0mnp\u001b[0m\u001b[1;33m.\u001b[0m\u001b[0masarray\u001b[0m\u001b[1;33m(\u001b[0m\u001b[0mkey\u001b[0m\u001b[1;33m,\u001b[0m \u001b[0mdtype\u001b[0m\u001b[1;33m=\u001b[0m\u001b[0mbool\u001b[0m\u001b[1;33m)\u001b[0m\u001b[1;33m\u001b[0m\u001b[1;33m\u001b[0m\u001b[0m\n\u001b[0;32m   5054\u001b[0m \u001b[1;33m\u001b[0m\u001b[0m\n\u001b[1;32m-> 5055\u001b[1;33m         \u001b[0mresult\u001b[0m \u001b[1;33m=\u001b[0m \u001b[0mgetitem\u001b[0m\u001b[1;33m(\u001b[0m\u001b[0mkey\u001b[0m\u001b[1;33m)\u001b[0m\u001b[1;33m\u001b[0m\u001b[1;33m\u001b[0m\u001b[0m\n\u001b[0m\u001b[0;32m   5056\u001b[0m         \u001b[1;31m# Because we ruled out integer above, we always get an arraylike here\u001b[0m\u001b[1;33m\u001b[0m\u001b[1;33m\u001b[0m\u001b[1;33m\u001b[0m\u001b[0m\n\u001b[0;32m   5057\u001b[0m         \u001b[1;32mif\u001b[0m \u001b[0mresult\u001b[0m\u001b[1;33m.\u001b[0m\u001b[0mndim\u001b[0m \u001b[1;33m>\u001b[0m \u001b[1;36m1\u001b[0m\u001b[1;33m:\u001b[0m\u001b[1;33m\u001b[0m\u001b[1;33m\u001b[0m\u001b[0m\n",
      "\u001b[1;31mIndexError\u001b[0m: only integers, slices (`:`), ellipsis (`...`), numpy.newaxis (`None`) and integer or boolean arrays are valid indices"
     ]
    }
   ],
   "source": [
    "highrated=pd.DataFrame(df[['category', 'rating']].value_counts().reset_index())\n",
    "highrated.columns['category','rating']\n"
   ]
  },
  {
   "cell_type": "code",
   "execution_count": null,
   "id": "9349637f",
   "metadata": {},
   "outputs": [],
   "source": []
  },
  {
   "cell_type": "code",
   "execution_count": null,
   "id": "4c19e8ba",
   "metadata": {},
   "outputs": [],
   "source": []
  },
  {
   "cell_type": "code",
   "execution_count": 65,
   "id": "3ee695ae",
   "metadata": {
    "scrolled": false
   },
   "outputs": [
    {
     "data": {
      "text/html": [
       "<div>\n",
       "<style scoped>\n",
       "    .dataframe tbody tr th:only-of-type {\n",
       "        vertical-align: middle;\n",
       "    }\n",
       "\n",
       "    .dataframe tbody tr th {\n",
       "        vertical-align: top;\n",
       "    }\n",
       "\n",
       "    .dataframe thead th {\n",
       "        text-align: right;\n",
       "    }\n",
       "</style>\n",
       "<table border=\"1\" class=\"dataframe\">\n",
       "  <thead>\n",
       "    <tr style=\"text-align: right;\">\n",
       "      <th></th>\n",
       "      <th>product</th>\n",
       "      <th>category</th>\n",
       "      <th>sub_category</th>\n",
       "      <th>brand</th>\n",
       "      <th>sale_price</th>\n",
       "      <th>market_price</th>\n",
       "      <th>type</th>\n",
       "      <th>rating</th>\n",
       "      <th>discount</th>\n",
       "    </tr>\n",
       "  </thead>\n",
       "  <tbody>\n",
       "    <tr>\n",
       "      <th>0</th>\n",
       "      <td>Garlic Oil - Vegetarian Capsule 500 mg</td>\n",
       "      <td>Beauty &amp; Hygiene</td>\n",
       "      <td>Hair Care</td>\n",
       "      <td>Sri Sri Ayurveda</td>\n",
       "      <td>220.00</td>\n",
       "      <td>220.0</td>\n",
       "      <td>Hair Oil &amp; Serum</td>\n",
       "      <td>4.1</td>\n",
       "      <td>0.000000</td>\n",
       "    </tr>\n",
       "    <tr>\n",
       "      <th>4</th>\n",
       "      <td>Creme Soft Soap - For Hands &amp; Body</td>\n",
       "      <td>Beauty &amp; Hygiene</td>\n",
       "      <td>Bath &amp; Hand Wash</td>\n",
       "      <td>Nivea</td>\n",
       "      <td>162.00</td>\n",
       "      <td>162.0</td>\n",
       "      <td>Bathing Bars &amp; Soaps</td>\n",
       "      <td>4.4</td>\n",
       "      <td>0.000000</td>\n",
       "    </tr>\n",
       "    <tr>\n",
       "      <th>7</th>\n",
       "      <td>Hand Sanitizer - 70% Alcohol Base</td>\n",
       "      <td>Beauty &amp; Hygiene</td>\n",
       "      <td>Bath &amp; Hand Wash</td>\n",
       "      <td>Bionova</td>\n",
       "      <td>250.00</td>\n",
       "      <td>250.0</td>\n",
       "      <td>Hand Wash &amp; Sanitizers</td>\n",
       "      <td>4.0</td>\n",
       "      <td>0.000000</td>\n",
       "    </tr>\n",
       "    <tr>\n",
       "      <th>9</th>\n",
       "      <td>Scrub Pad - Anti- Bacterial, Regular</td>\n",
       "      <td>Cleaning &amp; Household</td>\n",
       "      <td>Mops, Brushes &amp; Scrubs</td>\n",
       "      <td>Scotch brite</td>\n",
       "      <td>20.00</td>\n",
       "      <td>20.0</td>\n",
       "      <td>Utensil Scrub-Pad, Glove</td>\n",
       "      <td>4.3</td>\n",
       "      <td>0.000000</td>\n",
       "    </tr>\n",
       "    <tr>\n",
       "      <th>10</th>\n",
       "      <td>Wheat Grass Powder - Raw</td>\n",
       "      <td>Gourmet &amp; World Food</td>\n",
       "      <td>Cooking &amp; Baking Needs</td>\n",
       "      <td>NUTRASHIL</td>\n",
       "      <td>261.00</td>\n",
       "      <td>290.0</td>\n",
       "      <td>Flours &amp; Pre-Mixes</td>\n",
       "      <td>4.0</td>\n",
       "      <td>10.000000</td>\n",
       "    </tr>\n",
       "    <tr>\n",
       "      <th>...</th>\n",
       "      <td>...</td>\n",
       "      <td>...</td>\n",
       "      <td>...</td>\n",
       "      <td>...</td>\n",
       "      <td>...</td>\n",
       "      <td>...</td>\n",
       "      <td>...</td>\n",
       "      <td>...</td>\n",
       "      <td>...</td>\n",
       "    </tr>\n",
       "    <tr>\n",
       "      <th>27546</th>\n",
       "      <td>Organic Powder - Garam Masala</td>\n",
       "      <td>Foodgrains, Oil &amp; Masala</td>\n",
       "      <td>Organic Staples</td>\n",
       "      <td>Organic Tattva</td>\n",
       "      <td>152.00</td>\n",
       "      <td>160.0</td>\n",
       "      <td>Organic Masalas &amp; Spices</td>\n",
       "      <td>4.2</td>\n",
       "      <td>5.000000</td>\n",
       "    </tr>\n",
       "    <tr>\n",
       "      <th>27548</th>\n",
       "      <td>Apple Cider Vinegar Shampoo</td>\n",
       "      <td>Beauty &amp; Hygiene</td>\n",
       "      <td>Hair Care</td>\n",
       "      <td>Morpheme Remedies</td>\n",
       "      <td>499.00</td>\n",
       "      <td>499.0</td>\n",
       "      <td>Shampoo &amp; Conditioner</td>\n",
       "      <td>5.0</td>\n",
       "      <td>0.000000</td>\n",
       "    </tr>\n",
       "    <tr>\n",
       "      <th>27551</th>\n",
       "      <td>Rosemary</td>\n",
       "      <td>Gourmet &amp; World Food</td>\n",
       "      <td>Cooking &amp; Baking Needs</td>\n",
       "      <td>Puramate</td>\n",
       "      <td>67.50</td>\n",
       "      <td>75.0</td>\n",
       "      <td>Herbs, Seasonings &amp; Rubs</td>\n",
       "      <td>4.0</td>\n",
       "      <td>10.000000</td>\n",
       "    </tr>\n",
       "    <tr>\n",
       "      <th>27553</th>\n",
       "      <td>Green Tea - Pure Original</td>\n",
       "      <td>Beverages</td>\n",
       "      <td>Tea</td>\n",
       "      <td>Tetley</td>\n",
       "      <td>396.00</td>\n",
       "      <td>495.0</td>\n",
       "      <td>Tea Bags</td>\n",
       "      <td>4.2</td>\n",
       "      <td>20.000000</td>\n",
       "    </tr>\n",
       "    <tr>\n",
       "      <th>27554</th>\n",
       "      <td>United Dreams Go Far Deodorant</td>\n",
       "      <td>Beauty &amp; Hygiene</td>\n",
       "      <td>Men's Grooming</td>\n",
       "      <td>United Colors Of Benetton</td>\n",
       "      <td>214.53</td>\n",
       "      <td>390.0</td>\n",
       "      <td>Men's Deodorants</td>\n",
       "      <td>4.5</td>\n",
       "      <td>44.992308</td>\n",
       "    </tr>\n",
       "  </tbody>\n",
       "</table>\n",
       "<p>12238 rows × 9 columns</p>\n",
       "</div>"
      ],
      "text/plain": [
       "                                      product                  category  \\\n",
       "0      Garlic Oil - Vegetarian Capsule 500 mg          Beauty & Hygiene   \n",
       "4          Creme Soft Soap - For Hands & Body          Beauty & Hygiene   \n",
       "7           Hand Sanitizer - 70% Alcohol Base          Beauty & Hygiene   \n",
       "9        Scrub Pad - Anti- Bacterial, Regular      Cleaning & Household   \n",
       "10                   Wheat Grass Powder - Raw      Gourmet & World Food   \n",
       "...                                       ...                       ...   \n",
       "27546           Organic Powder - Garam Masala  Foodgrains, Oil & Masala   \n",
       "27548             Apple Cider Vinegar Shampoo          Beauty & Hygiene   \n",
       "27551                                Rosemary      Gourmet & World Food   \n",
       "27553               Green Tea - Pure Original                 Beverages   \n",
       "27554          United Dreams Go Far Deodorant          Beauty & Hygiene   \n",
       "\n",
       "                 sub_category                       brand  sale_price  \\\n",
       "0                   Hair Care           Sri Sri Ayurveda       220.00   \n",
       "4            Bath & Hand Wash                       Nivea      162.00   \n",
       "7            Bath & Hand Wash                     Bionova      250.00   \n",
       "9      Mops, Brushes & Scrubs                Scotch brite       20.00   \n",
       "10     Cooking & Baking Needs                   NUTRASHIL      261.00   \n",
       "...                       ...                         ...         ...   \n",
       "27546         Organic Staples              Organic Tattva      152.00   \n",
       "27548               Hair Care           Morpheme Remedies      499.00   \n",
       "27551  Cooking & Baking Needs                    Puramate       67.50   \n",
       "27553                     Tea                      Tetley      396.00   \n",
       "27554          Men's Grooming  United Colors Of Benetton       214.53   \n",
       "\n",
       "       market_price                      type  rating   discount  \n",
       "0             220.0          Hair Oil & Serum     4.1   0.000000  \n",
       "4             162.0      Bathing Bars & Soaps     4.4   0.000000  \n",
       "7             250.0    Hand Wash & Sanitizers     4.0   0.000000  \n",
       "9              20.0  Utensil Scrub-Pad, Glove     4.3   0.000000  \n",
       "10            290.0        Flours & Pre-Mixes     4.0  10.000000  \n",
       "...             ...                       ...     ...        ...  \n",
       "27546         160.0  Organic Masalas & Spices     4.2   5.000000  \n",
       "27548         499.0     Shampoo & Conditioner     5.0   0.000000  \n",
       "27551          75.0  Herbs, Seasonings & Rubs     4.0  10.000000  \n",
       "27553         495.0                  Tea Bags     4.2  20.000000  \n",
       "27554         390.0          Men's Deodorants     4.5  44.992308  \n",
       "\n",
       "[12238 rows x 9 columns]"
      ]
     },
     "execution_count": 65,
     "metadata": {},
     "output_type": "execute_result"
    }
   ],
   "source": [
    "data = df[df['rating'] >= 4]\n",
    "data"
   ]
  },
  {
   "cell_type": "code",
   "execution_count": 72,
   "id": "51ee23c0",
   "metadata": {},
   "outputs": [
    {
     "data": {
      "text/html": [
       "<div>\n",
       "<style scoped>\n",
       "    .dataframe tbody tr th:only-of-type {\n",
       "        vertical-align: middle;\n",
       "    }\n",
       "\n",
       "    .dataframe tbody tr th {\n",
       "        vertical-align: top;\n",
       "    }\n",
       "\n",
       "    .dataframe thead th {\n",
       "        text-align: right;\n",
       "    }\n",
       "</style>\n",
       "<table border=\"1\" class=\"dataframe\">\n",
       "  <thead>\n",
       "    <tr style=\"text-align: right;\">\n",
       "      <th></th>\n",
       "      <th>category</th>\n",
       "      <th>rating</th>\n",
       "    </tr>\n",
       "  </thead>\n",
       "  <tbody>\n",
       "    <tr>\n",
       "      <th>0</th>\n",
       "      <td>Baby Care</td>\n",
       "      <td>610</td>\n",
       "    </tr>\n",
       "    <tr>\n",
       "      <th>1</th>\n",
       "      <td>Bakery, Cakes &amp; Dairy</td>\n",
       "      <td>850</td>\n",
       "    </tr>\n",
       "    <tr>\n",
       "      <th>2</th>\n",
       "      <td>Beauty &amp; Hygiene</td>\n",
       "      <td>7677</td>\n",
       "    </tr>\n",
       "    <tr>\n",
       "      <th>3</th>\n",
       "      <td>Beverages</td>\n",
       "      <td>883</td>\n",
       "    </tr>\n",
       "    <tr>\n",
       "      <th>4</th>\n",
       "      <td>Cleaning &amp; Household</td>\n",
       "      <td>2649</td>\n",
       "    </tr>\n",
       "    <tr>\n",
       "      <th>5</th>\n",
       "      <td>Eggs, Meat &amp; Fish</td>\n",
       "      <td>350</td>\n",
       "    </tr>\n",
       "    <tr>\n",
       "      <th>6</th>\n",
       "      <td>Foodgrains, Oil &amp; Masala</td>\n",
       "      <td>2673</td>\n",
       "    </tr>\n",
       "    <tr>\n",
       "      <th>7</th>\n",
       "      <td>Fruits &amp; Vegetables</td>\n",
       "      <td>557</td>\n",
       "    </tr>\n",
       "    <tr>\n",
       "      <th>8</th>\n",
       "      <td>Gourmet &amp; World Food</td>\n",
       "      <td>4677</td>\n",
       "    </tr>\n",
       "    <tr>\n",
       "      <th>9</th>\n",
       "      <td>Kitchen, Garden &amp; Pets</td>\n",
       "      <td>3455</td>\n",
       "    </tr>\n",
       "    <tr>\n",
       "      <th>10</th>\n",
       "      <td>Snacks &amp; Branded Foods</td>\n",
       "      <td>2809</td>\n",
       "    </tr>\n",
       "  </tbody>\n",
       "</table>\n",
       "</div>"
      ],
      "text/plain": [
       "                    category  rating\n",
       "0                  Baby Care     610\n",
       "1      Bakery, Cakes & Dairy     850\n",
       "2           Beauty & Hygiene    7677\n",
       "3                  Beverages     883\n",
       "4       Cleaning & Household    2649\n",
       "5          Eggs, Meat & Fish     350\n",
       "6   Foodgrains, Oil & Masala    2673\n",
       "7        Fruits & Vegetables     557\n",
       "8       Gourmet & World Food    4677\n",
       "9     Kitchen, Garden & Pets    3455\n",
       "10    Snacks & Branded Foods    2809"
      ]
     },
     "execution_count": 72,
     "metadata": {},
     "output_type": "execute_result"
    }
   ],
   "source": [
    "data = pd.DataFrame(df.groupby('category')['rating'].count().reset_index())\n",
    "data.column = ['category', 'rating_count']\n",
    "data"
   ]
  },
  {
   "cell_type": "code",
   "execution_count": null,
   "id": "0ad33713",
   "metadata": {},
   "outputs": [],
   "source": [
    "df.head()"
   ]
  },
  {
   "cell_type": "code",
   "execution_count": null,
   "id": "d506b061",
   "metadata": {},
   "outputs": [],
   "source": [
    "plt.figure(figsize=[8,15])\n",
    "sns.displot(data=df, x='sale_price', kde=True)\n",
    "plt.show()"
   ]
  },
  {
   "cell_type": "code",
   "execution_count": null,
   "id": "519c1a06",
   "metadata": {
    "scrolled": false
   },
   "outputs": [],
   "source": [
    "plt.figure(figsize=[12,8])\n",
    "sns.kdeplot(\n",
    "   data=df, x=\"rating\",y=\"discount\", hue=\"category\",\n",
    "   fill=True, common_norm=False, palette=\"crest\",\n",
    "   alpha=0.6, linewidth=0,\n",
    ")\n",
    "plt.show()"
   ]
  },
  {
   "cell_type": "code",
   "execution_count": null,
   "id": "acbabe00",
   "metadata": {},
   "outputs": [],
   "source": [
    "plt.figure(figsize=(14, 8))\n",
    "sns.kdeplot(data = df, x='rating',hue='category',multiple='fill',alpha=0.3)\n",
    "plt.show()\n"
   ]
  }
 ],
 "metadata": {
  "kernelspec": {
   "display_name": "Python 3",
   "language": "python",
   "name": "python3"
  },
  "language_info": {
   "codemirror_mode": {
    "name": "ipython",
    "version": 3
   },
   "file_extension": ".py",
   "mimetype": "text/x-python",
   "name": "python",
   "nbconvert_exporter": "python",
   "pygments_lexer": "ipython3",
   "version": "3.8.8"
  }
 },
 "nbformat": 4,
 "nbformat_minor": 5
}
